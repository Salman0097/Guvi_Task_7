{
  "cells": [
    {
      "cell_type": "code",
      "execution_count": null,
      "metadata": {
        "id": "eqp7Q6rWnX20"
      },
      "outputs": [],
      "source": [
        "#Social_Network_Ads.csv"
      ]
    },
    {
      "cell_type": "markdown",
      "metadata": {
        "id": "1jSlqZcZnmrD"
      },
      "source": [
        "**Importing the libraries**"
      ]
    },
    {
      "cell_type": "code",
      "execution_count": 2,
      "metadata": {
        "id": "ACJTKMfInp-E"
      },
      "outputs": [],
      "source": [
        "import pandas as pd\n",
        "import numpy as np\n",
        "import matplotlib.pyplot as plt\n",
        "from sklearn.model_selection import train_test_split"
      ]
    },
    {
      "cell_type": "markdown",
      "metadata": {
        "id": "fRZkaj-dnxIj"
      },
      "source": [
        "**Importing the dataset**"
      ]
    },
    {
      "cell_type": "code",
      "execution_count": 3,
      "metadata": {
        "id": "SfTR4mVDnqBV"
      },
      "outputs": [
        {
          "data": {
            "text/html": [
              "<div>\n",
              "<style scoped>\n",
              "    .dataframe tbody tr th:only-of-type {\n",
              "        vertical-align: middle;\n",
              "    }\n",
              "\n",
              "    .dataframe tbody tr th {\n",
              "        vertical-align: top;\n",
              "    }\n",
              "\n",
              "    .dataframe thead th {\n",
              "        text-align: right;\n",
              "    }\n",
              "</style>\n",
              "<table border=\"1\" class=\"dataframe\">\n",
              "  <thead>\n",
              "    <tr style=\"text-align: right;\">\n",
              "      <th></th>\n",
              "      <th>User ID</th>\n",
              "      <th>Gender</th>\n",
              "      <th>Age</th>\n",
              "      <th>EstimatedSalary</th>\n",
              "      <th>Purchased</th>\n",
              "    </tr>\n",
              "  </thead>\n",
              "  <tbody>\n",
              "    <tr>\n",
              "      <th>0</th>\n",
              "      <td>15624510</td>\n",
              "      <td>Male</td>\n",
              "      <td>19</td>\n",
              "      <td>19000</td>\n",
              "      <td>0</td>\n",
              "    </tr>\n",
              "    <tr>\n",
              "      <th>1</th>\n",
              "      <td>15810944</td>\n",
              "      <td>Male</td>\n",
              "      <td>35</td>\n",
              "      <td>20000</td>\n",
              "      <td>0</td>\n",
              "    </tr>\n",
              "    <tr>\n",
              "      <th>2</th>\n",
              "      <td>15668575</td>\n",
              "      <td>Female</td>\n",
              "      <td>26</td>\n",
              "      <td>43000</td>\n",
              "      <td>0</td>\n",
              "    </tr>\n",
              "  </tbody>\n",
              "</table>\n",
              "</div>"
            ],
            "text/plain": [
              "    User ID  Gender  Age  EstimatedSalary  Purchased\n",
              "0  15624510    Male   19            19000          0\n",
              "1  15810944    Male   35            20000          0\n",
              "2  15668575  Female   26            43000          0"
            ]
          },
          "execution_count": 3,
          "metadata": {},
          "output_type": "execute_result"
        }
      ],
      "source": [
        "df = pd.read_csv('Social_Network_Ads.csv')\n",
        "df.head(3)"
      ]
    },
    {
      "cell_type": "markdown",
      "metadata": {
        "id": "9Thl3lvkn9Kr"
      },
      "source": [
        "**Splitting the dataset into the Training set and Test set**"
      ]
    },
    {
      "attachments": {},
      "cell_type": "markdown",
      "metadata": {},
      "source": [
        "### Encoding the values of  Gender"
      ]
    },
    {
      "cell_type": "code",
      "execution_count": 4,
      "metadata": {
        "id": "sp359H4XnqD3"
      },
      "outputs": [
        {
          "data": {
            "text/plain": [
              "0    1\n",
              "1    1\n",
              "2    0\n",
              "3    0\n",
              "4    1\n",
              "Name: Gender, dtype: int64"
            ]
          },
          "execution_count": 4,
          "metadata": {},
          "output_type": "execute_result"
        }
      ],
      "source": [
        "df['Gender'] = df['Gender'].map({'Male':1, 'Female':0})\n",
        "df['Gender'].head()"
      ]
    },
    {
      "cell_type": "code",
      "execution_count": 5,
      "metadata": {},
      "outputs": [
        {
          "data": {
            "text/html": [
              "<div>\n",
              "<style scoped>\n",
              "    .dataframe tbody tr th:only-of-type {\n",
              "        vertical-align: middle;\n",
              "    }\n",
              "\n",
              "    .dataframe tbody tr th {\n",
              "        vertical-align: top;\n",
              "    }\n",
              "\n",
              "    .dataframe thead th {\n",
              "        text-align: right;\n",
              "    }\n",
              "</style>\n",
              "<table border=\"1\" class=\"dataframe\">\n",
              "  <thead>\n",
              "    <tr style=\"text-align: right;\">\n",
              "      <th></th>\n",
              "      <th>Gender</th>\n",
              "      <th>Age</th>\n",
              "      <th>EstimatedSalary</th>\n",
              "    </tr>\n",
              "  </thead>\n",
              "  <tbody>\n",
              "    <tr>\n",
              "      <th>0</th>\n",
              "      <td>1</td>\n",
              "      <td>19</td>\n",
              "      <td>19000</td>\n",
              "    </tr>\n",
              "    <tr>\n",
              "      <th>1</th>\n",
              "      <td>1</td>\n",
              "      <td>35</td>\n",
              "      <td>20000</td>\n",
              "    </tr>\n",
              "    <tr>\n",
              "      <th>2</th>\n",
              "      <td>0</td>\n",
              "      <td>26</td>\n",
              "      <td>43000</td>\n",
              "    </tr>\n",
              "  </tbody>\n",
              "</table>\n",
              "</div>"
            ],
            "text/plain": [
              "   Gender  Age  EstimatedSalary\n",
              "0       1   19            19000\n",
              "1       1   35            20000\n",
              "2       0   26            43000"
            ]
          },
          "execution_count": 5,
          "metadata": {},
          "output_type": "execute_result"
        }
      ],
      "source": [
        "x = df.iloc[ : , 1:4]\n",
        "x.head(3)"
      ]
    },
    {
      "cell_type": "code",
      "execution_count": 6,
      "metadata": {},
      "outputs": [],
      "source": [
        "y = df['Purchased']"
      ]
    },
    {
      "cell_type": "code",
      "execution_count": 7,
      "metadata": {},
      "outputs": [],
      "source": [
        "x_train, x_test, y_train, y_test = train_test_split(x, y, test_size=0.20)"
      ]
    },
    {
      "cell_type": "code",
      "execution_count": 8,
      "metadata": {},
      "outputs": [
        {
          "data": {
            "text/plain": [
              "((320, 3), (80, 3), (320,), (80,))"
            ]
          },
          "execution_count": 8,
          "metadata": {},
          "output_type": "execute_result"
        }
      ],
      "source": [
        "x_train.shape, x_test.shape, y_train.shape, y_test.shape"
      ]
    },
    {
      "cell_type": "markdown",
      "metadata": {
        "id": "XNNxUncRoG6K"
      },
      "source": [
        "**Feature Scaling**"
      ]
    },
    {
      "cell_type": "code",
      "execution_count": 9,
      "metadata": {
        "id": "loYjT47TnqIG"
      },
      "outputs": [],
      "source": [
        "from sklearn.preprocessing import MinMaxScaler"
      ]
    },
    {
      "cell_type": "code",
      "execution_count": 10,
      "metadata": {},
      "outputs": [],
      "source": [
        "scaling = MinMaxScaler()"
      ]
    },
    {
      "cell_type": "code",
      "execution_count": 11,
      "metadata": {},
      "outputs": [
        {
          "data": {
            "text/plain": [
              "array([[0.        , 0.69047619, 0.26666667],\n",
              "       [0.        , 0.64285714, 0.85925926],\n",
              "       [0.        , 0.02380952, 0.04444444],\n",
              "       [0.        , 0.38095238, 0.42222222],\n",
              "       [0.        , 0.42857143, 0.82222222],\n",
              "       [1.        , 0.38095238, 0.74074074],\n",
              "       [0.        , 0.85714286, 0.65925926],\n",
              "       [0.        , 0.4047619 , 0.60740741],\n",
              "       [1.        , 0.33333333, 0.02222222],\n",
              "       [0.        , 0.97619048, 0.5037037 ],\n",
              "       [0.        , 0.78571429, 0.88148148],\n",
              "       [1.        , 0.45238095, 0.40740741],\n",
              "       [0.        , 0.35714286, 0.26666667],\n",
              "       [0.        , 0.11904762, 0.0962963 ],\n",
              "       [1.        , 0.33333333, 0.62962963],\n",
              "       [1.        , 0.47619048, 0.32592593],\n",
              "       [0.        , 0.47619048, 0.71851852],\n",
              "       [0.        , 0.4047619 , 0.33333333],\n",
              "       [1.        , 0.52380952, 0.46666667],\n",
              "       [0.        , 0.5952381 , 0.87407407],\n",
              "       [1.        , 0.16666667, 0.05185185],\n",
              "       [0.        , 0.83333333, 0.14074074],\n",
              "       [0.        , 0.21428571, 0.6       ],\n",
              "       [0.        , 0.80952381, 0.04444444],\n",
              "       [1.        , 0.42857143, 0.76296296],\n",
              "       [1.        , 0.4047619 , 0.2962963 ],\n",
              "       [1.        , 0.4047619 , 0.42962963],\n",
              "       [0.        , 0.        , 0.39259259],\n",
              "       [0.        , 0.4047619 , 0.45925926],\n",
              "       [0.        , 0.97619048, 0.1037037 ],\n",
              "       [1.        , 0.5       , 0.79259259],\n",
              "       [1.        , 0.30952381, 0.43703704],\n",
              "       [1.        , 0.52380952, 0.41481481],\n",
              "       [1.        , 0.4047619 , 0.44444444],\n",
              "       [1.        , 0.73809524, 0.54814815],\n",
              "       [0.        , 0.57142857, 0.40740741],\n",
              "       [0.        , 0.66666667, 0.12592593],\n",
              "       [0.        , 0.33333333, 0.52592593],\n",
              "       [0.        , 0.54761905, 0.41481481],\n",
              "       [1.        , 0.26190476, 0.20740741],\n",
              "       [1.        , 0.92857143, 0.43703704],\n",
              "       [0.        , 0.5       , 0.41481481],\n",
              "       [0.        , 0.5952381 , 0.71851852],\n",
              "       [0.        , 0.21428571, 0.28888889],\n",
              "       [0.        , 0.30952381, 0.14074074],\n",
              "       [0.        , 0.92857143, 0.08148148],\n",
              "       [0.        , 0.35714286, 0.4       ],\n",
              "       [1.        , 0.45238095, 0.44444444],\n",
              "       [0.        , 0.23809524, 0.32592593],\n",
              "       [0.        , 0.80952381, 0.55555556],\n",
              "       [0.        , 0.19047619, 0.42222222],\n",
              "       [1.        , 0.88095238, 0.17777778],\n",
              "       [0.        , 0.47619048, 0.48148148],\n",
              "       [1.        , 0.        , 0.4962963 ],\n",
              "       [0.        , 0.66666667, 0.43703704],\n",
              "       [1.        , 0.4047619 , 0.05185185],\n",
              "       [1.        , 0.47619048, 0.41481481],\n",
              "       [1.        , 0.83333333, 0.42222222],\n",
              "       [1.        , 0.47619048, 0.34074074],\n",
              "       [0.        , 0.45238095, 0.13333333],\n",
              "       [0.        , 0.42857143, 0.28888889],\n",
              "       [1.        , 0.4047619 , 0.17777778],\n",
              "       [1.        , 0.66666667, 0.47407407],\n",
              "       [1.        , 0.21428571, 0.03703704],\n",
              "       [1.        , 0.26190476, 0.98518519],\n",
              "       [1.        , 0.04761905, 0.52592593],\n",
              "       [1.        , 0.30952381, 0.02222222],\n",
              "       [1.        , 0.19047619, 0.48148148],\n",
              "       [0.        , 0.4047619 , 0.97777778],\n",
              "       [1.        , 0.4047619 , 0.47407407],\n",
              "       [0.        , 0.42857143, 0.25925926],\n",
              "       [1.        , 0.26190476, 0.48148148],\n",
              "       [0.        , 0.5       , 0.32592593],\n",
              "       [1.        , 0.19047619, 0.        ],\n",
              "       [1.        , 0.        , 0.27407407],\n",
              "       [0.        , 0.19047619, 0.        ],\n",
              "       [1.        , 0.5       , 0.88148148],\n",
              "       [0.        , 0.73809524, 0.93333333],\n",
              "       [1.        , 0.73809524, 0.0962963 ],\n",
              "       [1.        , 0.52380952, 0.31111111],\n",
              "       [1.        , 0.42857143, 0.27407407],\n",
              "       [0.        , 0.14285714, 0.54814815],\n",
              "       [0.        , 0.0952381 , 0.08888889],\n",
              "       [1.        , 0.52380952, 0.68148148],\n",
              "       [0.        , 0.71428571, 0.6       ],\n",
              "       [0.        , 0.95238095, 0.63703704],\n",
              "       [1.        , 0.9047619 , 0.33333333],\n",
              "       [1.        , 0.57142857, 0.48148148],\n",
              "       [1.        , 0.45238095, 0.28148148],\n",
              "       [0.        , 0.71428571, 0.14814815],\n",
              "       [0.        , 0.33333333, 1.        ],\n",
              "       [0.        , 0.47619048, 0.25925926],\n",
              "       [0.        , 0.38095238, 0.20740741],\n",
              "       [0.        , 0.38095238, 0.07407407],\n",
              "       [0.        , 0.57142857, 0.48148148],\n",
              "       [1.        , 0.69047619, 0.05925926],\n",
              "       [0.        , 0.57142857, 0.55555556],\n",
              "       [0.        , 0.69047619, 0.25925926],\n",
              "       [1.        , 0.47619048, 0.26666667],\n",
              "       [0.        , 0.54761905, 0.42222222],\n",
              "       [0.        , 0.71428571, 0.11111111],\n",
              "       [0.        , 0.4047619 , 0.37037037],\n",
              "       [1.        , 0.64285714, 0.47407407],\n",
              "       [0.        , 0.52380952, 0.94074074],\n",
              "       [0.        , 0.33333333, 0.75555556],\n",
              "       [1.        , 0.42857143, 0.95555556],\n",
              "       [0.        , 0.76190476, 0.21481481],\n",
              "       [0.        , 0.45238095, 0.9037037 ],\n",
              "       [0.        , 0.66666667, 0.05185185],\n",
              "       [0.        , 0.21428571, 0.31851852],\n",
              "       [1.        , 0.45238095, 0.95555556],\n",
              "       [0.        , 0.64285714, 0.22222222],\n",
              "       [1.        , 0.71428571, 0.19259259],\n",
              "       [0.        , 0.21428571, 0.51111111],\n",
              "       [0.        , 0.04761905, 0.05925926],\n",
              "       [0.        , 0.14285714, 0.2962963 ],\n",
              "       [1.        , 0.28571429, 0.25185185],\n",
              "       [1.        , 0.26190476, 0.44444444],\n",
              "       [0.        , 0.30952381, 0.        ],\n",
              "       [0.        , 0.0952381 , 0.35555556],\n",
              "       [1.        , 0.73809524, 0.37037037],\n",
              "       [0.        , 0.92857143, 0.79259259],\n",
              "       [0.        , 0.21428571, 0.31111111],\n",
              "       [1.        , 0.69047619, 0.20740741],\n",
              "       [0.        , 0.4047619 , 0.07407407],\n",
              "       [0.        , 0.02380952, 0.08148148],\n",
              "       [1.        , 0.02380952, 0.02962963],\n",
              "       [0.        , 0.47619048, 0.37037037],\n",
              "       [0.        , 0.47619048, 0.72592593],\n",
              "       [1.        , 0.54761905, 0.32592593],\n",
              "       [0.        , 0.57142857, 0.28148148],\n",
              "       [0.        , 0.35714286, 0.72592593],\n",
              "       [0.        , 0.19047619, 0.51111111],\n",
              "       [1.        , 0.28571429, 0.01481481],\n",
              "       [1.        , 0.45238095, 0.47407407],\n",
              "       [1.        , 0.16666667, 0.47407407],\n",
              "       [1.        , 0.4047619 , 0.31851852],\n",
              "       [1.        , 0.16666667, 0.13333333],\n",
              "       [0.        , 0.23809524, 0.53333333],\n",
              "       [0.        , 0.73809524, 0.17777778],\n",
              "       [0.        , 0.66666667, 0.6       ],\n",
              "       [0.        , 0.71428571, 0.88148148],\n",
              "       [0.        , 1.        , 0.22962963],\n",
              "       [0.        , 0.19047619, 0.27407407],\n",
              "       [1.        , 0.19047619, 0.12592593],\n",
              "       [1.        , 0.38095238, 0.20740741],\n",
              "       [0.        , 0.26190476, 0.5037037 ],\n",
              "       [0.        , 0.5       , 0.34074074],\n",
              "       [1.        , 0.4047619 , 0.25925926],\n",
              "       [1.        , 0.04761905, 0.25185185],\n",
              "       [0.        , 0.69047619, 0.11111111],\n",
              "       [1.        , 0.45238095, 0.43703704],\n",
              "       [1.        , 0.52380952, 0.44444444],\n",
              "       [1.        , 0.47619048, 0.41481481],\n",
              "       [0.        , 0.95238095, 0.23703704],\n",
              "       [0.        , 0.95238095, 0.59259259],\n",
              "       [1.        , 0.73809524, 0.52592593],\n",
              "       [1.        , 0.42857143, 0.33333333],\n",
              "       [1.        , 0.02380952, 0.45185185],\n",
              "       [0.        , 0.54761905, 0.42222222],\n",
              "       [0.        , 0.61904762, 0.17777778],\n",
              "       [1.        , 0.21428571, 0.31851852],\n",
              "       [0.        , 0.66666667, 0.19259259],\n",
              "       [1.        , 0.38095238, 0.71851852],\n",
              "       [1.        , 0.28571429, 0.68148148],\n",
              "       [1.        , 0.21428571, 0.54074074],\n",
              "       [1.        , 0.14285714, 0.02962963],\n",
              "       [1.        , 0.73809524, 0.54074074],\n",
              "       [0.        , 0.30952381, 0.76296296],\n",
              "       [1.        , 0.21428571, 0.55555556],\n",
              "       [1.        , 0.02380952, 0.40740741],\n",
              "       [0.        , 0.5       , 0.42962963],\n",
              "       [1.        , 0.66666667, 0.0962963 ],\n",
              "       [0.        , 0.5       , 0.88148148],\n",
              "       [1.        , 0.66666667, 0.05925926],\n",
              "       [0.        , 0.76190476, 0.15555556],\n",
              "       [1.        , 0.52380952, 0.31111111],\n",
              "       [0.        , 0.83333333, 0.94814815],\n",
              "       [1.        , 0.54761905, 0.27407407],\n",
              "       [1.        , 0.28571429, 0.53333333],\n",
              "       [1.        , 0.64285714, 0.05185185],\n",
              "       [1.        , 0.02380952, 0.07407407],\n",
              "       [1.        , 0.19047619, 0.48888889],\n",
              "       [1.        , 0.5       , 0.2       ],\n",
              "       [0.        , 0.80952381, 0.17037037],\n",
              "       [1.        , 0.30952381, 0.45185185],\n",
              "       [0.        , 0.21428571, 0.9037037 ],\n",
              "       [0.        , 0.4047619 , 0.23703704],\n",
              "       [0.        , 0.23809524, 0.51851852],\n",
              "       [0.        , 0.64285714, 0.05185185],\n",
              "       [0.        , 0.52380952, 0.44444444],\n",
              "       [1.        , 0.4047619 , 0.42222222],\n",
              "       [1.        , 0.52380952, 0.23703704],\n",
              "       [0.        , 0.28571429, 0.34814815],\n",
              "       [1.        , 0.19047619, 0.52592593],\n",
              "       [1.        , 0.66666667, 0.54074074],\n",
              "       [1.        , 0.71428571, 0.93333333],\n",
              "       [0.        , 0.69047619, 0.68148148],\n",
              "       [0.        , 0.54761905, 0.48148148],\n",
              "       [1.        , 0.28571429, 0.88888889],\n",
              "       [1.        , 0.02380952, 0.51851852],\n",
              "       [1.        , 0.85714286, 0.40740741],\n",
              "       [1.        , 0.92857143, 0.33333333],\n",
              "       [0.        , 0.69047619, 0.72592593],\n",
              "       [0.        , 0.4047619 , 0.25925926],\n",
              "       [1.        , 0.57142857, 0.37037037],\n",
              "       [0.        , 0.57142857, 0.44444444],\n",
              "       [1.        , 0.35714286, 0.11851852],\n",
              "       [0.        , 0.4047619 , 0.42222222],\n",
              "       [1.        , 0.73809524, 0.43703704],\n",
              "       [1.        , 0.30952381, 0.37777778],\n",
              "       [0.        , 0.73809524, 0.15555556],\n",
              "       [1.        , 0.16666667, 0.53333333],\n",
              "       [0.        , 0.33333333, 0.88888889],\n",
              "       [0.        , 0.80952381, 0.91111111],\n",
              "       [1.        , 0.57142857, 0.42962963],\n",
              "       [0.        , 0.35714286, 0.0962963 ],\n",
              "       [0.        , 0.88095238, 0.81481481],\n",
              "       [1.        , 0.28571429, 0.48148148],\n",
              "       [1.        , 0.57142857, 0.36296296],\n",
              "       [0.        , 0.11904762, 0.37777778],\n",
              "       [1.        , 0.54761905, 0.53333333],\n",
              "       [0.        , 0.57142857, 0.47407407],\n",
              "       [1.        , 0.45238095, 0.45925926],\n",
              "       [0.        , 0.97619048, 0.54074074],\n",
              "       [1.        , 0.54761905, 0.22222222],\n",
              "       [1.        , 0.52380952, 0.32592593],\n",
              "       [0.        , 0.97619048, 0.45185185],\n",
              "       [0.        , 0.80952381, 0.73333333],\n",
              "       [0.        , 0.57142857, 0.68888889],\n",
              "       [1.        , 0.4047619 , 0.34074074],\n",
              "       [0.        , 0.4047619 , 0.05925926],\n",
              "       [1.        , 0.14285714, 0.05925926],\n",
              "       [0.        , 0.45238095, 0.48148148],\n",
              "       [1.        , 0.4047619 , 0.68888889],\n",
              "       [0.        , 0.19047619, 0.20740741],\n",
              "       [1.        , 0.42857143, 0.62222222],\n",
              "       [0.        , 0.52380952, 0.42222222],\n",
              "       [0.        , 0.14285714, 0.12592593],\n",
              "       [0.        , 0.54761905, 0.33333333],\n",
              "       [1.        , 0.16666667, 0.48148148],\n",
              "       [0.        , 0.07142857, 0.00740741],\n",
              "       [0.        , 0.35714286, 0.99259259],\n",
              "       [1.        , 0.69047619, 0.03703704],\n",
              "       [0.        , 0.5       , 0.44444444],\n",
              "       [0.        , 0.23809524, 0.16296296],\n",
              "       [0.        , 0.71428571, 0.1037037 ],\n",
              "       [1.        , 0.64285714, 0.12592593],\n",
              "       [0.        , 0.04761905, 0.4962963 ],\n",
              "       [0.        , 0.33333333, 0.75555556],\n",
              "       [0.        , 0.76190476, 0.54074074],\n",
              "       [1.        , 0.4047619 , 0.32592593],\n",
              "       [1.        , 0.19047619, 0.00740741],\n",
              "       [0.        , 0.07142857, 0.39259259],\n",
              "       [1.        , 0.11904762, 0.03703704],\n",
              "       [0.        , 0.97619048, 0.2       ],\n",
              "       [1.        , 0.33333333, 0.77777778],\n",
              "       [0.        , 0.        , 0.52592593],\n",
              "       [0.        , 0.71428571, 0.91111111],\n",
              "       [0.        , 0.83333333, 0.4962963 ],\n",
              "       [0.        , 0.47619048, 0.2962963 ],\n",
              "       [0.        , 0.19047619, 0.76296296],\n",
              "       [1.        , 0.33333333, 0.02222222],\n",
              "       [0.        , 0.21428571, 0.11851852],\n",
              "       [1.        , 0.52380952, 0.37037037],\n",
              "       [1.        , 0.5       , 0.41481481],\n",
              "       [1.        , 0.45238095, 0.2962963 ],\n",
              "       [0.        , 0.47619048, 0.25925926],\n",
              "       [1.        , 0.45238095, 0.42222222],\n",
              "       [0.        , 0.4047619 , 0.31111111],\n",
              "       [0.        , 0.04761905, 0.15555556],\n",
              "       [1.        , 0.97619048, 0.94814815],\n",
              "       [1.        , 0.52380952, 0.31111111],\n",
              "       [1.        , 0.07142857, 0.42222222],\n",
              "       [1.        , 0.42857143, 0.81481481],\n",
              "       [1.        , 0.23809524, 0.12592593],\n",
              "       [1.        , 0.4047619 , 0.56296296],\n",
              "       [0.        , 0.19047619, 0.14814815],\n",
              "       [0.        , 0.14285714, 0.08888889],\n",
              "       [0.        , 0.30952381, 0.41481481],\n",
              "       [0.        , 0.54761905, 0.26666667],\n",
              "       [1.        , 1.        , 0.2       ],\n",
              "       [1.        , 0.80952381, 1.        ],\n",
              "       [1.        , 0.69047619, 0.14074074],\n",
              "       [1.        , 0.23809524, 0.32592593],\n",
              "       [0.        , 0.5       , 0.47407407],\n",
              "       [1.        , 0.66666667, 0.32592593],\n",
              "       [0.        , 0.71428571, 0.77037037],\n",
              "       [0.        , 0.        , 0.21481481],\n",
              "       [0.        , 0.35714286, 0.33333333],\n",
              "       [1.        , 0.57142857, 0.28888889],\n",
              "       [0.        , 0.69047619, 0.95555556],\n",
              "       [1.        , 0.69047619, 0.66666667],\n",
              "       [0.        , 0.45238095, 0.31111111],\n",
              "       [0.        , 0.45238095, 0.48148148],\n",
              "       [1.        , 0.54761905, 0.47407407],\n",
              "       [1.        , 0.19047619, 0.11111111],\n",
              "       [1.        , 0.4047619 , 0.54074074],\n",
              "       [0.        , 0.9047619 , 0.65925926],\n",
              "       [0.        , 0.76190476, 0.03703704],\n",
              "       [1.        , 1.        , 0.14074074],\n",
              "       [1.        , 0.28571429, 0.54814815],\n",
              "       [1.        , 0.64285714, 0.08148148],\n",
              "       [1.        , 0.0952381 , 0.02222222],\n",
              "       [1.        , 0.11904762, 0.35555556],\n",
              "       [0.        , 0.66666667, 0.4962963 ],\n",
              "       [0.        , 0.30952381, 0.39259259],\n",
              "       [0.        , 1.        , 0.68888889],\n",
              "       [0.        , 0.61904762, 0.91851852],\n",
              "       [1.        , 0.45238095, 0.27407407],\n",
              "       [1.        , 0.57142857, 0.28888889],\n",
              "       [1.        , 0.26190476, 0.20740741],\n",
              "       [0.        , 0.04761905, 0.4962963 ],\n",
              "       [1.        , 0.42857143, 0.13333333],\n",
              "       [1.        , 0.73809524, 0.0962963 ],\n",
              "       [1.        , 0.14285714, 0.51111111],\n",
              "       [0.        , 0.11904762, 0.24444444],\n",
              "       [1.        , 0.4047619 , 0.17037037],\n",
              "       [1.        , 0.14285714, 0.31851852],\n",
              "       [0.        , 0.21428571, 0.01481481]])"
            ]
          },
          "execution_count": 11,
          "metadata": {},
          "output_type": "execute_result"
        }
      ],
      "source": [
        "scaling.fit_transform(x_train)"
      ]
    },
    {
      "cell_type": "markdown",
      "metadata": {
        "id": "_VB4b09roPhq"
      },
      "source": [
        "**Fitting Random Forest to the Training set**"
      ]
    },
    {
      "cell_type": "code",
      "execution_count": 13,
      "metadata": {
        "id": "0UxhDc2lnqKu"
      },
      "outputs": [],
      "source": [
        "from sklearn.ensemble import RandomForestClassifier"
      ]
    },
    {
      "cell_type": "code",
      "execution_count": 15,
      "metadata": {},
      "outputs": [
        {
          "data": {
            "text/html": [
              "<style>#sk-container-id-1 {color: black;background-color: white;}#sk-container-id-1 pre{padding: 0;}#sk-container-id-1 div.sk-toggleable {background-color: white;}#sk-container-id-1 label.sk-toggleable__label {cursor: pointer;display: block;width: 100%;margin-bottom: 0;padding: 0.3em;box-sizing: border-box;text-align: center;}#sk-container-id-1 label.sk-toggleable__label-arrow:before {content: \"▸\";float: left;margin-right: 0.25em;color: #696969;}#sk-container-id-1 label.sk-toggleable__label-arrow:hover:before {color: black;}#sk-container-id-1 div.sk-estimator:hover label.sk-toggleable__label-arrow:before {color: black;}#sk-container-id-1 div.sk-toggleable__content {max-height: 0;max-width: 0;overflow: hidden;text-align: left;background-color: #f0f8ff;}#sk-container-id-1 div.sk-toggleable__content pre {margin: 0.2em;color: black;border-radius: 0.25em;background-color: #f0f8ff;}#sk-container-id-1 input.sk-toggleable__control:checked~div.sk-toggleable__content {max-height: 200px;max-width: 100%;overflow: auto;}#sk-container-id-1 input.sk-toggleable__control:checked~label.sk-toggleable__label-arrow:before {content: \"▾\";}#sk-container-id-1 div.sk-estimator input.sk-toggleable__control:checked~label.sk-toggleable__label {background-color: #d4ebff;}#sk-container-id-1 div.sk-label input.sk-toggleable__control:checked~label.sk-toggleable__label {background-color: #d4ebff;}#sk-container-id-1 input.sk-hidden--visually {border: 0;clip: rect(1px 1px 1px 1px);clip: rect(1px, 1px, 1px, 1px);height: 1px;margin: -1px;overflow: hidden;padding: 0;position: absolute;width: 1px;}#sk-container-id-1 div.sk-estimator {font-family: monospace;background-color: #f0f8ff;border: 1px dotted black;border-radius: 0.25em;box-sizing: border-box;margin-bottom: 0.5em;}#sk-container-id-1 div.sk-estimator:hover {background-color: #d4ebff;}#sk-container-id-1 div.sk-parallel-item::after {content: \"\";width: 100%;border-bottom: 1px solid gray;flex-grow: 1;}#sk-container-id-1 div.sk-label:hover label.sk-toggleable__label {background-color: #d4ebff;}#sk-container-id-1 div.sk-serial::before {content: \"\";position: absolute;border-left: 1px solid gray;box-sizing: border-box;top: 0;bottom: 0;left: 50%;z-index: 0;}#sk-container-id-1 div.sk-serial {display: flex;flex-direction: column;align-items: center;background-color: white;padding-right: 0.2em;padding-left: 0.2em;position: relative;}#sk-container-id-1 div.sk-item {position: relative;z-index: 1;}#sk-container-id-1 div.sk-parallel {display: flex;align-items: stretch;justify-content: center;background-color: white;position: relative;}#sk-container-id-1 div.sk-item::before, #sk-container-id-1 div.sk-parallel-item::before {content: \"\";position: absolute;border-left: 1px solid gray;box-sizing: border-box;top: 0;bottom: 0;left: 50%;z-index: -1;}#sk-container-id-1 div.sk-parallel-item {display: flex;flex-direction: column;z-index: 1;position: relative;background-color: white;}#sk-container-id-1 div.sk-parallel-item:first-child::after {align-self: flex-end;width: 50%;}#sk-container-id-1 div.sk-parallel-item:last-child::after {align-self: flex-start;width: 50%;}#sk-container-id-1 div.sk-parallel-item:only-child::after {width: 0;}#sk-container-id-1 div.sk-dashed-wrapped {border: 1px dashed gray;margin: 0 0.4em 0.5em 0.4em;box-sizing: border-box;padding-bottom: 0.4em;background-color: white;}#sk-container-id-1 div.sk-label label {font-family: monospace;font-weight: bold;display: inline-block;line-height: 1.2em;}#sk-container-id-1 div.sk-label-container {text-align: center;}#sk-container-id-1 div.sk-container {/* jupyter's `normalize.less` sets `[hidden] { display: none; }` but bootstrap.min.css set `[hidden] { display: none !important; }` so we also need the `!important` here to be able to override the default hidden behavior on the sphinx rendered scikit-learn.org. See: https://github.com/scikit-learn/scikit-learn/issues/21755 */display: inline-block !important;position: relative;}#sk-container-id-1 div.sk-text-repr-fallback {display: none;}</style><div id=\"sk-container-id-1\" class=\"sk-top-container\"><div class=\"sk-text-repr-fallback\"><pre>RandomForestClassifier(criterion=&#x27;entropy&#x27;, max_depth=2)</pre><b>In a Jupyter environment, please rerun this cell to show the HTML representation or trust the notebook. <br />On GitHub, the HTML representation is unable to render, please try loading this page with nbviewer.org.</b></div><div class=\"sk-container\" hidden><div class=\"sk-item\"><div class=\"sk-estimator sk-toggleable\"><input class=\"sk-toggleable__control sk-hidden--visually\" id=\"sk-estimator-id-1\" type=\"checkbox\" checked><label for=\"sk-estimator-id-1\" class=\"sk-toggleable__label sk-toggleable__label-arrow\">RandomForestClassifier</label><div class=\"sk-toggleable__content\"><pre>RandomForestClassifier(criterion=&#x27;entropy&#x27;, max_depth=2)</pre></div></div></div></div></div>"
            ],
            "text/plain": [
              "RandomForestClassifier(criterion='entropy', max_depth=2)"
            ]
          },
          "execution_count": 15,
          "metadata": {},
          "output_type": "execute_result"
        }
      ],
      "source": [
        "model = RandomForestClassifier(criterion='entropy', max_depth=2)\n",
        "model.fit(x_train,y_train)"
      ]
    },
    {
      "cell_type": "markdown",
      "metadata": {
        "id": "XOl6_ERWoYh2"
      },
      "source": [
        "**Predicting the Test set results**"
      ]
    },
    {
      "cell_type": "code",
      "execution_count": 17,
      "metadata": {
        "id": "7xFCuAXjnqPN"
      },
      "outputs": [
        {
          "data": {
            "text/plain": [
              "array([1, 0, 0, 0, 1, 0, 0, 0, 0, 0, 0, 0, 0, 0, 0, 1, 0, 0, 0, 1, 0, 1,\n",
              "       0, 1, 1, 1, 1, 1, 0, 1, 0, 0, 0, 1, 1, 0, 1, 1, 1, 0, 1, 1, 0, 0,\n",
              "       1, 1, 1, 0, 0, 0, 0, 0, 1, 0, 0, 0, 0, 0, 0, 0, 1, 0, 1, 1, 0, 0,\n",
              "       0, 0, 0, 0, 0, 0, 1, 1, 1, 1, 0, 0, 1, 0], dtype=int64)"
            ]
          },
          "execution_count": 17,
          "metadata": {},
          "output_type": "execute_result"
        }
      ],
      "source": [
        "y_pred = model.predict(x_test)\n",
        "y_pred"
      ]
    },
    {
      "cell_type": "markdown",
      "metadata": {
        "id": "pqaQ_HTZogaZ"
      },
      "source": [
        "**Making the Confusion Matrix**"
      ]
    },
    {
      "cell_type": "code",
      "execution_count": 18,
      "metadata": {
        "id": "DdqNOMK8nqSs"
      },
      "outputs": [],
      "source": [
        "from sklearn.metrics import confusion_matrix"
      ]
    },
    {
      "cell_type": "code",
      "execution_count": 22,
      "metadata": {},
      "outputs": [
        {
          "data": {
            "text/plain": [
              "array([[47,  3],\n",
              "       [ 1, 29]], dtype=int64)"
            ]
          },
          "execution_count": 22,
          "metadata": {},
          "output_type": "execute_result"
        }
      ],
      "source": [
        "cm = confusion_matrix(y_pred, y_test)\n",
        "cm"
      ]
    },
    {
      "cell_type": "code",
      "execution_count": 23,
      "metadata": {},
      "outputs": [],
      "source": [
        "import seaborn as sns"
      ]
    },
    {
      "cell_type": "code",
      "execution_count": 25,
      "metadata": {},
      "outputs": [
        {
          "data": {
            "text/plain": [
              "<AxesSubplot: >"
            ]
          },
          "execution_count": 25,
          "metadata": {},
          "output_type": "execute_result"
        },
        {
          "data": {
            "image/png": "[encoded data removed]",
            "text/plain": [
              "<Figure size 640x480 with 2 Axes>"
            ]
          },
          "metadata": {},
          "output_type": "display_data"
        }
      ],
      "source": [
        "sns.heatmap(cm, annot=True)"
      ]
    },
    {
      "cell_type": "markdown",
      "metadata": {
        "id": "Ko5EDqqiopBl"
      },
      "source": [
        "**Visualising the Training set results**"
      ]
    },
    {
      "cell_type": "code",
      "execution_count": 26,
      "metadata": {
        "id": "y7C-xZjFnqVC"
      },
      "outputs": [
        {
          "data": {
            "image/png": "[encoded data removed]",
            "text/plain": [
              "<Figure size 640x480 with 1 Axes>"
            ]
          },
          "metadata": {},
          "output_type": "display_data"
        }
      ],
      "source": [
        "plt.scatter(x_train.Age, y_train, color = 'Red')\n",
        "plt.xlabel('Age')\n",
        "plt.ylabel('Purchased')\n",
        "plt.title('Age vs Purchased')\n",
        "plt.show()"
      ]
    },
    {
      "cell_type": "code",
      "execution_count": null,
      "metadata": {},
      "outputs": [],
      "source": [
        "plt.scatter(x_train.EstimatedSalary, y_train, color = 'Red')\n",
        "plt.xlabel('Estimated Salary')\n",
        "plt.ylabel('Purchased')\n",
        "plt.title('Estimated salary vs Purchased')\n",
        "plt.show()"
      ]
    },
    {
      "cell_type": "markdown",
      "metadata": {
        "id": "ExFSX84Hou9C"
      },
      "source": [
        "**Visualising the Test set results**"
      ]
    },
    {
      "cell_type": "code",
      "execution_count": 27,
      "metadata": {
        "id": "zHbPz86Noj6d"
      },
      "outputs": [
        {
          "data": {
            "image/png": "[encoded data removed]",
            "text/plain": [
              "<Figure size 640x480 with 1 Axes>"
            ]
          },
          "metadata": {},
          "output_type": "display_data"
        }
      ],
      "source": [
        "plt.scatter(x_test.Age, y_test, color = 'Red')\n",
        "plt.xlabel('Age')\n",
        "plt.ylabel('Purchased')\n",
        "plt.title('Age vs Purchased')\n",
        "plt.show()"
      ]
    },
    {
      "cell_type": "code",
      "execution_count": 28,
      "metadata": {
        "id": "Cexs-z2Lo4p0"
      },
      "outputs": [
        {
          "data": {
            "image/png": "[encoded data removed]",
            "text/plain": [
              "<Figure size 640x480 with 1 Axes>"
            ]
          },
          "metadata": {},
          "output_type": "display_data"
        }
      ],
      "source": [
        "plt.scatter(x_test.EstimatedSalary, y_test, color = 'Red')\n",
        "plt.xlabel('Estimated Salary')\n",
        "plt.ylabel('Purchased')\n",
        "plt.title('Estimated salary vs Purchased')\n",
        "plt.show()"
      ]
    }
  ],
  "metadata": {
    "colab": {
      "provenance": []
    },
    "kernelspec": {
      "display_name": "Python 3",
      "language": "python",
      "name": "python3"
    },
    "language_info": {
      "codemirror_mode": {
        "name": "ipython",
        "version": 3
      },
      "file_extension": ".py",
      "mimetype": "text/x-python",
      "name": "python",
      "nbconvert_exporter": "python",
      "pygments_lexer": "ipython3",
      "version": "3.11.0"
    },
    "vscode": {
      "interpreter": {
        "hash": "c6f3122309dd7e2b7b7540c4d5e229686eb9e8bbcafaa9171ce90190ce45e4c8"
      }
    }
  },
  "nbformat": 4,
  "nbformat_minor": 0
}
