{
  "cells": [
    {
      "cell_type": "code",
      "execution_count": 2,
      "metadata": {
        "id": "OTEpzVunhgga"
      },
      "outputs": [],
      "source": [
        "#Social_Network_Ads.csv"
      ]
    },
    {
      "cell_type": "markdown",
      "metadata": {
        "id": "Qa5Bo_A9h3kB"
      },
      "source": [
        "**Import libraries**"
      ]
    },
    {
      "cell_type": "code",
      "execution_count": 3,
      "metadata": {
        "id": "pFIDCPu9h1DO"
      },
      "outputs": [],
      "source": [
        "import pandas as pd\n",
        "import numpy as np\n",
        "import matplotlib.pyplot as plt\n",
        "%matplotlib inline"
      ]
    },
    {
      "cell_type": "markdown",
      "metadata": {
        "id": "L9CQXJjkiKRq"
      },
      "source": [
        "**Importing the dataset**"
      ]
    },
    {
      "cell_type": "code",
      "execution_count": 4,
      "metadata": {
        "id": "ZNiJnC7hh1HC"
      },
      "outputs": [
        {
          "data": {
            "text/html": [
              "<div>\n",
              "<style scoped>\n",
              "    .dataframe tbody tr th:only-of-type {\n",
              "        vertical-align: middle;\n",
              "    }\n",
              "\n",
              "    .dataframe tbody tr th {\n",
              "        vertical-align: top;\n",
              "    }\n",
              "\n",
              "    .dataframe thead th {\n",
              "        text-align: right;\n",
              "    }\n",
              "</style>\n",
              "<table border=\"1\" class=\"dataframe\">\n",
              "  <thead>\n",
              "    <tr style=\"text-align: right;\">\n",
              "      <th></th>\n",
              "      <th>User ID</th>\n",
              "      <th>Gender</th>\n",
              "      <th>Age</th>\n",
              "      <th>EstimatedSalary</th>\n",
              "      <th>Purchased</th>\n",
              "    </tr>\n",
              "  </thead>\n",
              "  <tbody>\n",
              "    <tr>\n",
              "      <th>0</th>\n",
              "      <td>15624510</td>\n",
              "      <td>Male</td>\n",
              "      <td>19</td>\n",
              "      <td>19000</td>\n",
              "      <td>0</td>\n",
              "    </tr>\n",
              "    <tr>\n",
              "      <th>1</th>\n",
              "      <td>15810944</td>\n",
              "      <td>Male</td>\n",
              "      <td>35</td>\n",
              "      <td>20000</td>\n",
              "      <td>0</td>\n",
              "    </tr>\n",
              "    <tr>\n",
              "      <th>2</th>\n",
              "      <td>15668575</td>\n",
              "      <td>Female</td>\n",
              "      <td>26</td>\n",
              "      <td>43000</td>\n",
              "      <td>0</td>\n",
              "    </tr>\n",
              "  </tbody>\n",
              "</table>\n",
              "</div>"
            ],
            "text/plain": [
              "    User ID  Gender  Age  EstimatedSalary  Purchased\n",
              "0  15624510    Male   19            19000          0\n",
              "1  15810944    Male   35            20000          0\n",
              "2  15668575  Female   26            43000          0"
            ]
          },
          "execution_count": 4,
          "metadata": {},
          "output_type": "execute_result"
        }
      ],
      "source": [
        "df = pd.read_csv('Social_Network_Ads.csv')\n",
        "df.head(3)"
      ]
    },
    {
      "cell_type": "code",
      "execution_count": 5,
      "metadata": {},
      "outputs": [
        {
          "data": {
            "text/html": [
              "<div>\n",
              "<style scoped>\n",
              "    .dataframe tbody tr th:only-of-type {\n",
              "        vertical-align: middle;\n",
              "    }\n",
              "\n",
              "    .dataframe tbody tr th {\n",
              "        vertical-align: top;\n",
              "    }\n",
              "\n",
              "    .dataframe thead th {\n",
              "        text-align: right;\n",
              "    }\n",
              "</style>\n",
              "<table border=\"1\" class=\"dataframe\">\n",
              "  <thead>\n",
              "    <tr style=\"text-align: right;\">\n",
              "      <th></th>\n",
              "      <th>Age</th>\n",
              "      <th>EstimatedSalary</th>\n",
              "    </tr>\n",
              "  </thead>\n",
              "  <tbody>\n",
              "    <tr>\n",
              "      <th>0</th>\n",
              "      <td>19</td>\n",
              "      <td>19000</td>\n",
              "    </tr>\n",
              "    <tr>\n",
              "      <th>1</th>\n",
              "      <td>35</td>\n",
              "      <td>20000</td>\n",
              "    </tr>\n",
              "    <tr>\n",
              "      <th>2</th>\n",
              "      <td>26</td>\n",
              "      <td>43000</td>\n",
              "    </tr>\n",
              "  </tbody>\n",
              "</table>\n",
              "</div>"
            ],
            "text/plain": [
              "   Age  EstimatedSalary\n",
              "0   19            19000\n",
              "1   35            20000\n",
              "2   26            43000"
            ]
          },
          "execution_count": 5,
          "metadata": {},
          "output_type": "execute_result"
        }
      ],
      "source": [
        "x = df.iloc[ : , 2:4]\n",
        "x.head(3)"
      ]
    },
    {
      "cell_type": "code",
      "execution_count": 6,
      "metadata": {},
      "outputs": [],
      "source": [
        "y = df['Purchased']"
      ]
    },
    {
      "cell_type": "markdown",
      "metadata": {
        "id": "GpelPvR4iSxv"
      },
      "source": [
        "**Splitting the dataset into the Training set and Test set**"
      ]
    },
    {
      "cell_type": "code",
      "execution_count": 7,
      "metadata": {
        "id": "eROg-IDUh1JZ"
      },
      "outputs": [],
      "source": [
        "from sklearn.model_selection import train_test_split"
      ]
    },
    {
      "cell_type": "code",
      "execution_count": 8,
      "metadata": {},
      "outputs": [],
      "source": [
        "x_train,x_test,y_train,y_test = train_test_split(x,y,test_size= 0.2)"
      ]
    },
    {
      "cell_type": "code",
      "execution_count": 9,
      "metadata": {},
      "outputs": [
        {
          "data": {
            "text/plain": [
              "((320, 2), (80, 2), (320,), (80,))"
            ]
          },
          "execution_count": 9,
          "metadata": {},
          "output_type": "execute_result"
        }
      ],
      "source": [
        "x_train.shape,x_test.shape,y_train.shape,y_test.shape"
      ]
    },
    {
      "cell_type": "markdown",
      "metadata": {
        "id": "cwBqfX6WiZOx"
      },
      "source": [
        "**Feature Scaling**"
      ]
    },
    {
      "cell_type": "code",
      "execution_count": 10,
      "metadata": {
        "id": "yCcfuhv_h1Lw"
      },
      "outputs": [],
      "source": [
        "from sklearn.preprocessing import MinMaxScaler"
      ]
    },
    {
      "cell_type": "code",
      "execution_count": 11,
      "metadata": {},
      "outputs": [
        {
          "data": {
            "text/plain": [
              "array([[0.71428571, 0.93333333],\n",
              "       [0.66666667, 0.32592593],\n",
              "       [0.07142857, 0.42222222],\n",
              "       [0.97619048, 0.1037037 ],\n",
              "       [0.02380952, 0.02962963],\n",
              "       [0.21428571, 0.31851852],\n",
              "       [0.28571429, 0.47407407],\n",
              "       [0.19047619, 0.11111111],\n",
              "       [0.66666667, 0.4962963 ],\n",
              "       [0.61904762, 0.91851852],\n",
              "       [0.19047619, 0.20740741],\n",
              "       [0.64285714, 0.08148148],\n",
              "       [0.52380952, 0.31111111],\n",
              "       [0.57142857, 0.99259259],\n",
              "       [0.45238095, 0.43703704],\n",
              "       [0.71428571, 0.11111111],\n",
              "       [0.92857143, 0.08148148],\n",
              "       [0.        , 0.52592593],\n",
              "       [0.16666667, 0.13333333],\n",
              "       [0.4047619 , 0.08888889],\n",
              "       [0.35714286, 0.20740741],\n",
              "       [0.11904762, 0.03703704],\n",
              "       [0.5       , 0.41481481],\n",
              "       [0.66666667, 0.05925926],\n",
              "       [0.95238095, 0.59259259],\n",
              "       [0.23809524, 0.12592593],\n",
              "       [0.54761905, 0.22222222],\n",
              "       [0.11904762, 0.24444444],\n",
              "       [0.66666667, 0.6       ],\n",
              "       [0.42857143, 0.27407407],\n",
              "       [0.83333333, 0.14074074],\n",
              "       [0.71428571, 0.43703704],\n",
              "       [0.28571429, 0.54814815],\n",
              "       [0.02380952, 0.04444444],\n",
              "       [0.26190476, 0.0962963 ],\n",
              "       [0.38095238, 0.20740741],\n",
              "       [0.97619048, 0.2       ],\n",
              "       [0.33333333, 0.02222222],\n",
              "       [0.45238095, 0.31111111],\n",
              "       [0.54761905, 0.53333333],\n",
              "       [0.42857143, 0.35555556],\n",
              "       [0.07142857, 0.00740741],\n",
              "       [0.16666667, 0.48148148],\n",
              "       [0.54761905, 0.42222222],\n",
              "       [0.69047619, 0.26666667],\n",
              "       [0.4047619 , 0.60740741],\n",
              "       [1.        , 0.68888889],\n",
              "       [0.54761905, 0.32592593],\n",
              "       [0.26190476, 0.20740741],\n",
              "       [0.26190476, 0.34074074],\n",
              "       [0.5       , 0.44444444],\n",
              "       [0.85714286, 0.68888889],\n",
              "       [0.66666667, 0.43703704],\n",
              "       [0.5       , 0.32592593],\n",
              "       [0.19047619, 0.48888889],\n",
              "       [0.45238095, 0.48148148],\n",
              "       [0.57142857, 0.37037037],\n",
              "       [0.14285714, 0.2962963 ],\n",
              "       [0.52380952, 0.44444444],\n",
              "       [0.69047619, 0.07407407],\n",
              "       [0.64285714, 0.12592593],\n",
              "       [0.5       , 0.2       ],\n",
              "       [0.38095238, 0.07407407],\n",
              "       [0.64285714, 0.05185185],\n",
              "       [0.4047619 , 0.25925926],\n",
              "       [0.71428571, 0.6       ],\n",
              "       [0.45238095, 0.47407407],\n",
              "       [0.73809524, 0.15555556],\n",
              "       [0.19047619, 0.00740741],\n",
              "       [0.21428571, 0.54814815],\n",
              "       [0.21428571, 0.01481481],\n",
              "       [0.52380952, 0.68148148],\n",
              "       [0.28571429, 0.48148148],\n",
              "       [0.52380952, 0.34074074],\n",
              "       [0.21428571, 0.51111111],\n",
              "       [0.33333333, 1.        ],\n",
              "       [0.5       , 0.42962963],\n",
              "       [0.35714286, 0.72592593],\n",
              "       [0.11904762, 0.37777778],\n",
              "       [0.23809524, 0.21481481],\n",
              "       [0.23809524, 0.51111111],\n",
              "       [0.5       , 0.41481481],\n",
              "       [0.45238095, 0.57777778],\n",
              "       [0.30952381, 0.54814815],\n",
              "       [0.5952381 , 0.84444444],\n",
              "       [0.35714286, 0.0962963 ],\n",
              "       [0.21428571, 0.03703704],\n",
              "       [0.19047619, 0.        ],\n",
              "       [0.64285714, 0.22222222],\n",
              "       [0.0952381 , 0.02222222],\n",
              "       [0.57142857, 0.68888889],\n",
              "       [0.30952381, 0.31851852],\n",
              "       [0.19047619, 0.42222222],\n",
              "       [0.28571429, 0.68148148],\n",
              "       [0.04761905, 0.4962963 ],\n",
              "       [0.19047619, 0.        ],\n",
              "       [0.52380952, 0.23703704],\n",
              "       [0.4047619 , 0.17777778],\n",
              "       [0.97619048, 0.94814815],\n",
              "       [0.30952381, 0.76296296],\n",
              "       [0.83333333, 0.65925926],\n",
              "       [0.4047619 , 0.44444444],\n",
              "       [0.73809524, 0.17777778],\n",
              "       [0.5       , 0.67407407],\n",
              "       [0.26190476, 0.44444444],\n",
              "       [0.35714286, 0.19259259],\n",
              "       [0.54761905, 0.26666667],\n",
              "       [0.        , 0.21481481],\n",
              "       [0.69047619, 0.25925926],\n",
              "       [0.4047619 , 0.31111111],\n",
              "       [0.35714286, 0.4       ],\n",
              "       [0.45238095, 0.48148148],\n",
              "       [0.04761905, 0.4962963 ],\n",
              "       [0.07142857, 0.54074074],\n",
              "       [0.69047619, 0.95555556],\n",
              "       [0.4047619 , 0.05185185],\n",
              "       [0.47619048, 0.71851852],\n",
              "       [0.33333333, 0.02222222],\n",
              "       [0.57142857, 0.44444444],\n",
              "       [0.33333333, 0.52592593],\n",
              "       [0.28571429, 0.34814815],\n",
              "       [0.26190476, 0.23703704],\n",
              "       [0.19047619, 0.14814815],\n",
              "       [0.42857143, 0.62222222],\n",
              "       [0.4047619 , 0.47407407],\n",
              "       [0.14285714, 0.02962963],\n",
              "       [0.83333333, 0.94814815],\n",
              "       [0.88095238, 0.81481481],\n",
              "       [0.21428571, 0.9037037 ],\n",
              "       [0.4047619 , 0.33333333],\n",
              "       [0.92857143, 0.43703704],\n",
              "       [0.30952381, 0.37777778],\n",
              "       [0.69047619, 0.23703704],\n",
              "       [0.95238095, 0.17037037],\n",
              "       [0.66666667, 0.05185185],\n",
              "       [0.80952381, 0.91111111],\n",
              "       [0.57142857, 0.47407407],\n",
              "       [0.45238095, 0.28148148],\n",
              "       [0.02380952, 0.51851852],\n",
              "       [0.30952381, 0.43703704],\n",
              "       [0.28571429, 0.74814815],\n",
              "       [0.19047619, 0.52592593],\n",
              "       [0.5       , 0.88148148],\n",
              "       [0.88095238, 0.85185185],\n",
              "       [0.95238095, 0.63703704],\n",
              "       [0.33333333, 0.62962963],\n",
              "       [0.71428571, 0.91111111],\n",
              "       [0.42857143, 0.44444444],\n",
              "       [0.21428571, 0.31851852],\n",
              "       [0.0952381 , 0.2962963 ],\n",
              "       [0.54761905, 0.42222222],\n",
              "       [0.73809524, 0.52592593],\n",
              "       [0.23809524, 0.51851852],\n",
              "       [0.04761905, 0.15555556],\n",
              "       [0.45238095, 0.45925926],\n",
              "       [0.47619048, 0.37037037],\n",
              "       [0.52380952, 0.41481481],\n",
              "       [0.47619048, 0.34074074],\n",
              "       [0.23809524, 0.47407407],\n",
              "       [0.54761905, 0.47407407],\n",
              "       [0.73809524, 0.43703704],\n",
              "       [0.9047619 , 0.65925926],\n",
              "       [0.45238095, 0.44444444],\n",
              "       [0.47619048, 0.41481481],\n",
              "       [0.04761905, 0.25185185],\n",
              "       [0.66666667, 0.54074074],\n",
              "       [0.45238095, 0.13333333],\n",
              "       [0.42857143, 0.81481481],\n",
              "       [0.0952381 , 0.48888889],\n",
              "       [0.45238095, 0.42222222],\n",
              "       [0.5       , 0.79259259],\n",
              "       [0.76190476, 0.03703704],\n",
              "       [0.4047619 , 0.42222222],\n",
              "       [0.73809524, 0.37037037],\n",
              "       [0.54761905, 0.41481481],\n",
              "       [0.4047619 , 0.68888889],\n",
              "       [0.95238095, 0.95555556],\n",
              "       [0.4047619 , 0.45925926],\n",
              "       [0.33333333, 0.77777778],\n",
              "       [0.66666667, 0.47407407],\n",
              "       [0.52380952, 0.32592593],\n",
              "       [0.73809524, 0.54814815],\n",
              "       [0.04761905, 0.43703704],\n",
              "       [0.5       , 0.45925926],\n",
              "       [0.85714286, 0.40740741],\n",
              "       [0.95238095, 0.05925926],\n",
              "       [0.47619048, 0.34074074],\n",
              "       [0.69047619, 0.25185185],\n",
              "       [0.42857143, 0.82222222],\n",
              "       [0.14285714, 0.08888889],\n",
              "       [0.4047619 , 0.42962963],\n",
              "       [0.04761905, 0.52592593],\n",
              "       [0.85714286, 0.65925926],\n",
              "       [0.42857143, 0.76296296],\n",
              "       [0.45238095, 0.34814815],\n",
              "       [0.21428571, 0.6       ],\n",
              "       [0.83333333, 0.4962963 ],\n",
              "       [0.47619048, 0.72592593],\n",
              "       [0.28571429, 0.53333333],\n",
              "       [0.54761905, 0.42222222],\n",
              "       [0.30952381, 0.02222222],\n",
              "       [0.61904762, 0.17777778],\n",
              "       [0.38095238, 0.71851852],\n",
              "       [0.4047619 , 0.42222222],\n",
              "       [0.11904762, 0.0962963 ],\n",
              "       [0.69047619, 0.03703704],\n",
              "       [0.30952381, 0.41481481],\n",
              "       [0.92857143, 0.13333333],\n",
              "       [0.78571429, 0.88148148],\n",
              "       [0.57142857, 0.48148148],\n",
              "       [0.4047619 , 0.05925926],\n",
              "       [0.47619048, 0.25925926],\n",
              "       [0.83333333, 0.42222222],\n",
              "       [0.71428571, 0.14814815],\n",
              "       [0.35714286, 0.26666667],\n",
              "       [0.57142857, 0.36296296],\n",
              "       [0.14285714, 0.2962963 ],\n",
              "       [0.71428571, 0.77037037],\n",
              "       [0.23809524, 0.54814815],\n",
              "       [0.19047619, 0.76296296],\n",
              "       [0.4047619 , 0.28148148],\n",
              "       [0.38095238, 0.42222222],\n",
              "       [0.5       , 0.6       ],\n",
              "       [0.26190476, 0.48148148],\n",
              "       [0.73809524, 0.93333333],\n",
              "       [0.80952381, 0.04444444],\n",
              "       [0.92857143, 0.33333333],\n",
              "       [0.4047619 , 0.07407407],\n",
              "       [0.38095238, 0.74074074],\n",
              "       [0.19047619, 0.01481481],\n",
              "       [0.45238095, 0.97037037],\n",
              "       [0.76190476, 0.54074074],\n",
              "       [0.42857143, 0.13333333],\n",
              "       [0.73809524, 0.54074074],\n",
              "       [0.4047619 , 0.37037037],\n",
              "       [0.45238095, 0.2962963 ],\n",
              "       [0.19047619, 0.48148148],\n",
              "       [0.30952381, 0.14074074],\n",
              "       [0.33333333, 0.75555556],\n",
              "       [0.66666667, 0.12592593],\n",
              "       [0.30952381, 0.        ],\n",
              "       [0.4047619 , 0.03703704],\n",
              "       [0.52380952, 0.42222222],\n",
              "       [0.4047619 , 0.41481481],\n",
              "       [0.4047619 , 0.2962963 ],\n",
              "       [0.5       , 0.88148148],\n",
              "       [0.69047619, 0.66666667],\n",
              "       [0.0952381 , 0.08888889],\n",
              "       [0.92857143, 0.79259259],\n",
              "       [0.57142857, 0.28888889],\n",
              "       [0.26190476, 0.5037037 ],\n",
              "       [0.52380952, 0.31111111],\n",
              "       [0.26190476, 0.98518519],\n",
              "       [0.30952381, 0.39259259],\n",
              "       [0.52380952, 0.46666667],\n",
              "       [0.66666667, 0.19259259],\n",
              "       [0.78571429, 0.05925926],\n",
              "       [0.57142857, 0.28148148],\n",
              "       [0.71428571, 0.1037037 ],\n",
              "       [0.35714286, 0.99259259],\n",
              "       [0.97619048, 0.85185185],\n",
              "       [0.47619048, 0.26666667],\n",
              "       [0.95238095, 0.23703704],\n",
              "       [0.21428571, 0.31111111],\n",
              "       [0.73809524, 0.0962963 ],\n",
              "       [0.4047619 , 0.21481481],\n",
              "       [1.        , 0.64444444],\n",
              "       [0.33333333, 0.88888889],\n",
              "       [0.66666667, 0.0962963 ],\n",
              "       [0.66666667, 0.75555556],\n",
              "       [0.38095238, 0.20740741],\n",
              "       [0.54761905, 0.27407407],\n",
              "       [0.28571429, 0.        ],\n",
              "       [0.23809524, 0.53333333],\n",
              "       [0.26190476, 0.20740741],\n",
              "       [0.52380952, 0.37037037],\n",
              "       [0.4047619 , 0.34074074],\n",
              "       [0.16666667, 0.53333333],\n",
              "       [0.19047619, 0.48148148],\n",
              "       [0.4047619 , 0.25925926],\n",
              "       [1.        , 0.2       ],\n",
              "       [0.35714286, 0.11851852],\n",
              "       [0.54761905, 0.42222222],\n",
              "       [0.45238095, 0.95555556],\n",
              "       [0.69047619, 0.72592593],\n",
              "       [0.9047619 , 0.87407407],\n",
              "       [0.        , 0.4962963 ],\n",
              "       [0.        , 0.39259259],\n",
              "       [0.47619048, 0.48148148],\n",
              "       [0.71428571, 0.55555556],\n",
              "       [0.23809524, 0.16296296],\n",
              "       [0.23809524, 0.32592593],\n",
              "       [0.80952381, 0.55555556],\n",
              "       [0.4047619 , 0.31851852],\n",
              "       [1.        , 0.22962963],\n",
              "       [0.54761905, 0.35555556],\n",
              "       [0.19047619, 0.12592593],\n",
              "       [0.47619048, 0.32592593],\n",
              "       [0.57142857, 0.55555556],\n",
              "       [0.23809524, 0.2962963 ],\n",
              "       [0.45238095, 0.27407407],\n",
              "       [0.23809524, 0.32592593],\n",
              "       [0.14285714, 0.31851852],\n",
              "       [0.69047619, 0.05925926],\n",
              "       [0.78571429, 0.97037037],\n",
              "       [0.26190476, 0.5037037 ],\n",
              "       [0.04761905, 0.05925926],\n",
              "       [0.45238095, 0.9037037 ],\n",
              "       [0.4047619 , 0.97777778],\n",
              "       [0.02380952, 0.45185185],\n",
              "       [0.07142857, 0.39259259],\n",
              "       [0.71428571, 0.88148148],\n",
              "       [0.5952381 , 0.87407407],\n",
              "       [0.76190476, 0.21481481],\n",
              "       [0.11904762, 0.35555556],\n",
              "       [0.52380952, 0.31111111],\n",
              "       [0.14285714, 0.51111111],\n",
              "       [0.35714286, 0.33333333],\n",
              "       [0.71428571, 0.19259259],\n",
              "       [0.21428571, 0.28888889]])"
            ]
          },
          "execution_count": 11,
          "metadata": {},
          "output_type": "execute_result"
        }
      ],
      "source": [
        "scaling = MinMaxScaler()\n",
        "scaling.fit_transform(x_train)"
      ]
    },
    {
      "cell_type": "code",
      "execution_count": 12,
      "metadata": {},
      "outputs": [
        {
          "data": {
            "text/plain": [
              "array([[0.80952381, 0.15789474],\n",
              "       [0.        , 0.26315789],\n",
              "       [0.33333333, 0.7518797 ],\n",
              "       [0.14285714, 0.04511278],\n",
              "       [0.16666667, 0.54887218],\n",
              "       [0.52380952, 0.93984962],\n",
              "       [0.28571429, 0.        ],\n",
              "       [0.02380952, 0.39849624],\n",
              "       [0.21428571, 0.54887218],\n",
              "       [0.5952381 , 0.71428571],\n",
              "       [0.69047619, 0.67669173],\n",
              "       [0.54761905, 0.09774436],\n",
              "       [0.69047619, 0.12781955],\n",
              "       [0.57142857, 0.42105263],\n",
              "       [0.69047619, 0.09774436],\n",
              "       [0.57142857, 0.65413534],\n",
              "       [1.        , 0.12781955],\n",
              "       [0.02380952, 0.06015038],\n",
              "       [0.97619048, 0.53383459],\n",
              "       [0.21428571, 0.53383459],\n",
              "       [0.45238095, 0.39849624],\n",
              "       [0.4047619 , 0.31578947],\n",
              "       [0.16666667, 0.03759398],\n",
              "       [0.97619048, 0.4962406 ],\n",
              "       [0.5       , 0.46616541],\n",
              "       [1.        , 0.18796992],\n",
              "       [0.5       , 0.33082707],\n",
              "       [0.80952381, 0.72932331],\n",
              "       [0.42857143, 0.32330827],\n",
              "       [0.71428571, 0.12030075],\n",
              "       [0.88095238, 0.16541353],\n",
              "       [0.52380952, 0.32330827],\n",
              "       [0.19047619, 0.26315789],\n",
              "       [0.5       , 0.18796992],\n",
              "       [0.14285714, 0.11278195],\n",
              "       [0.85714286, 0.06766917],\n",
              "       [0.45238095, 0.40601504],\n",
              "       [0.21428571, 0.10526316],\n",
              "       [0.11904762, 0.4887218 ],\n",
              "       [0.45238095, 0.45864662],\n",
              "       [0.42857143, 0.2481203 ],\n",
              "       [0.9047619 , 0.32330827],\n",
              "       [0.54761905, 0.47368421],\n",
              "       [0.97619048, 0.44360902],\n",
              "       [0.23809524, 0.79699248],\n",
              "       [0.4047619 , 0.43609023],\n",
              "       [0.4047619 , 0.53383459],\n",
              "       [1.        , 0.4962406 ],\n",
              "       [0.64285714, 0.46616541],\n",
              "       [0.28571429, 0.88721805],\n",
              "       [0.28571429, 0.2406015 ],\n",
              "       [0.4047619 , 0.15789474],\n",
              "       [0.47619048, 0.28571429],\n",
              "       [0.71428571, 0.12030075],\n",
              "       [0.19047619, 0.5037594 ],\n",
              "       [0.73809524, 0.08270677],\n",
              "       [0.42857143, 0.95488722],\n",
              "       [0.57142857, 0.39849624],\n",
              "       [0.57142857, 0.27819549],\n",
              "       [0.76190476, 0.14285714],\n",
              "       [0.30952381, 0.44360902],\n",
              "       [0.02380952, 0.06766917],\n",
              "       [0.16666667, 0.46616541],\n",
              "       [0.54761905, 0.32330827],\n",
              "       [0.42857143, 0.27819549],\n",
              "       [0.47619048, 0.40601504],\n",
              "       [0.54761905, 0.26315789],\n",
              "       [0.57142857, 0.36090226],\n",
              "       [0.71428571, 0.85714286],\n",
              "       [0.52380952, 0.43609023],\n",
              "       [0.47619048, 0.2481203 ],\n",
              "       [0.0952381 , 0.34586466],\n",
              "       [0.64285714, 0.03759398],\n",
              "       [0.14285714, 0.54135338],\n",
              "       [0.69047619, 0.19548872],\n",
              "       [0.64285714, 0.85714286],\n",
              "       [0.4047619 , 0.22556391],\n",
              "       [0.57142857, 0.47368421],\n",
              "       [0.80952381, 1.        ],\n",
              "       [0.4047619 , 0.55639098]])"
            ]
          },
          "execution_count": 12,
          "metadata": {},
          "output_type": "execute_result"
        }
      ],
      "source": [
        "scaling.fit_transform(x_test)"
      ]
    },
    {
      "cell_type": "markdown",
      "metadata": {
        "id": "OUGszSAKinhN"
      },
      "source": [
        "**Fitting SVM to the Training set**"
      ]
    },
    {
      "cell_type": "code",
      "execution_count": 13,
      "metadata": {
        "id": "FLIzMPkOh1Ob"
      },
      "outputs": [],
      "source": [
        "from sklearn.svm import SVC"
      ]
    },
    {
      "cell_type": "code",
      "execution_count": 14,
      "metadata": {},
      "outputs": [
        {
          "data": {
            "text/html": [
              "<style>#sk-container-id-1 {color: black;background-color: white;}#sk-container-id-1 pre{padding: 0;}#sk-container-id-1 div.sk-toggleable {background-color: white;}#sk-container-id-1 label.sk-toggleable__label {cursor: pointer;display: block;width: 100%;margin-bottom: 0;padding: 0.3em;box-sizing: border-box;text-align: center;}#sk-container-id-1 label.sk-toggleable__label-arrow:before {content: \"▸\";float: left;margin-right: 0.25em;color: #696969;}#sk-container-id-1 label.sk-toggleable__label-arrow:hover:before {color: black;}#sk-container-id-1 div.sk-estimator:hover label.sk-toggleable__label-arrow:before {color: black;}#sk-container-id-1 div.sk-toggleable__content {max-height: 0;max-width: 0;overflow: hidden;text-align: left;background-color: #f0f8ff;}#sk-container-id-1 div.sk-toggleable__content pre {margin: 0.2em;color: black;border-radius: 0.25em;background-color: #f0f8ff;}#sk-container-id-1 input.sk-toggleable__control:checked~div.sk-toggleable__content {max-height: 200px;max-width: 100%;overflow: auto;}#sk-container-id-1 input.sk-toggleable__control:checked~label.sk-toggleable__label-arrow:before {content: \"▾\";}#sk-container-id-1 div.sk-estimator input.sk-toggleable__control:checked~label.sk-toggleable__label {background-color: #d4ebff;}#sk-container-id-1 div.sk-label input.sk-toggleable__control:checked~label.sk-toggleable__label {background-color: #d4ebff;}#sk-container-id-1 input.sk-hidden--visually {border: 0;clip: rect(1px 1px 1px 1px);clip: rect(1px, 1px, 1px, 1px);height: 1px;margin: -1px;overflow: hidden;padding: 0;position: absolute;width: 1px;}#sk-container-id-1 div.sk-estimator {font-family: monospace;background-color: #f0f8ff;border: 1px dotted black;border-radius: 0.25em;box-sizing: border-box;margin-bottom: 0.5em;}#sk-container-id-1 div.sk-estimator:hover {background-color: #d4ebff;}#sk-container-id-1 div.sk-parallel-item::after {content: \"\";width: 100%;border-bottom: 1px solid gray;flex-grow: 1;}#sk-container-id-1 div.sk-label:hover label.sk-toggleable__label {background-color: #d4ebff;}#sk-container-id-1 div.sk-serial::before {content: \"\";position: absolute;border-left: 1px solid gray;box-sizing: border-box;top: 0;bottom: 0;left: 50%;z-index: 0;}#sk-container-id-1 div.sk-serial {display: flex;flex-direction: column;align-items: center;background-color: white;padding-right: 0.2em;padding-left: 0.2em;position: relative;}#sk-container-id-1 div.sk-item {position: relative;z-index: 1;}#sk-container-id-1 div.sk-parallel {display: flex;align-items: stretch;justify-content: center;background-color: white;position: relative;}#sk-container-id-1 div.sk-item::before, #sk-container-id-1 div.sk-parallel-item::before {content: \"\";position: absolute;border-left: 1px solid gray;box-sizing: border-box;top: 0;bottom: 0;left: 50%;z-index: -1;}#sk-container-id-1 div.sk-parallel-item {display: flex;flex-direction: column;z-index: 1;position: relative;background-color: white;}#sk-container-id-1 div.sk-parallel-item:first-child::after {align-self: flex-end;width: 50%;}#sk-container-id-1 div.sk-parallel-item:last-child::after {align-self: flex-start;width: 50%;}#sk-container-id-1 div.sk-parallel-item:only-child::after {width: 0;}#sk-container-id-1 div.sk-dashed-wrapped {border: 1px dashed gray;margin: 0 0.4em 0.5em 0.4em;box-sizing: border-box;padding-bottom: 0.4em;background-color: white;}#sk-container-id-1 div.sk-label label {font-family: monospace;font-weight: bold;display: inline-block;line-height: 1.2em;}#sk-container-id-1 div.sk-label-container {text-align: center;}#sk-container-id-1 div.sk-container {/* jupyter's `normalize.less` sets `[hidden] { display: none; }` but bootstrap.min.css set `[hidden] { display: none !important; }` so we also need the `!important` here to be able to override the default hidden behavior on the sphinx rendered scikit-learn.org. See: https://github.com/scikit-learn/scikit-learn/issues/21755 */display: inline-block !important;position: relative;}#sk-container-id-1 div.sk-text-repr-fallback {display: none;}</style><div id=\"sk-container-id-1\" class=\"sk-top-container\"><div class=\"sk-text-repr-fallback\"><pre>SVC()</pre><b>In a Jupyter environment, please rerun this cell to show the HTML representation or trust the notebook. <br />On GitHub, the HTML representation is unable to render, please try loading this page with nbviewer.org.</b></div><div class=\"sk-container\" hidden><div class=\"sk-item\"><div class=\"sk-estimator sk-toggleable\"><input class=\"sk-toggleable__control sk-hidden--visually\" id=\"sk-estimator-id-1\" type=\"checkbox\" checked><label for=\"sk-estimator-id-1\" class=\"sk-toggleable__label sk-toggleable__label-arrow\">SVC</label><div class=\"sk-toggleable__content\"><pre>SVC()</pre></div></div></div></div></div>"
            ],
            "text/plain": [
              "SVC()"
            ]
          },
          "execution_count": 14,
          "metadata": {},
          "output_type": "execute_result"
        }
      ],
      "source": [
        "model = SVC()\n",
        "model.fit(x_train,y_train)"
      ]
    },
    {
      "cell_type": "markdown",
      "metadata": {
        "id": "aW3yFyofiqtE"
      },
      "source": [
        "**Predicting the Test set results**"
      ]
    },
    {
      "cell_type": "code",
      "execution_count": 15,
      "metadata": {
        "id": "aG_OGjavh1Q4"
      },
      "outputs": [
        {
          "data": {
            "text/plain": [
              "array([0, 0, 1, 0, 0, 1, 0, 0, 0, 1, 1, 0, 0, 0, 0, 1, 0, 0, 0, 0, 0, 0,\n",
              "       0, 0, 0, 0, 0, 1, 0, 0, 0, 0, 0, 0, 0, 0, 0, 0, 0, 0, 0, 0, 0, 0,\n",
              "       1, 0, 0, 0, 0, 1, 0, 0, 0, 0, 0, 0, 1, 0, 0, 0, 0, 0, 0, 0, 0, 0,\n",
              "       0, 0, 1, 0, 0, 0, 0, 0, 0, 1, 0, 0, 1, 0], dtype=int64)"
            ]
          },
          "execution_count": 15,
          "metadata": {},
          "output_type": "execute_result"
        }
      ],
      "source": [
        "prediction = model.predict(x_test)\n",
        "prediction"
      ]
    },
    {
      "cell_type": "markdown",
      "metadata": {
        "id": "4Kfn-chPi4Ts"
      },
      "source": [
        "**Making the Confusion Matrix**"
      ]
    },
    {
      "cell_type": "code",
      "execution_count": 16,
      "metadata": {
        "id": "G7VPRN2Ah1Tm"
      },
      "outputs": [],
      "source": [
        "from sklearn.metrics import confusion_matrix"
      ]
    },
    {
      "cell_type": "code",
      "execution_count": 17,
      "metadata": {},
      "outputs": [],
      "source": [
        "cm = confusion_matrix(prediction, y_test)"
      ]
    },
    {
      "cell_type": "markdown",
      "metadata": {
        "id": "7Fo3I-pKi7JQ"
      },
      "source": [
        "**Visualising the Training set results**"
      ]
    },
    {
      "cell_type": "code",
      "execution_count": 19,
      "metadata": {
        "id": "hI3xXh_oh1XK"
      },
      "outputs": [
        {
          "data": {
            "image/png": "[encoded data removed]",
            "text/plain": [
              "<Figure size 640x480 with 1 Axes>"
            ]
          },
          "metadata": {},
          "output_type": "display_data"
        }
      ],
      "source": [
        "plt.scatter(x_train.Age, y_train, color = 'Red')\n",
        "plt.xlabel('Age')\n",
        "plt.ylabel('Purchased')\n",
        "plt.title('Age vs Purchased')\n",
        "plt.show()"
      ]
    },
    {
      "cell_type": "code",
      "execution_count": 21,
      "metadata": {
        "id": "YzMdeL7FjHnn"
      },
      "outputs": [
        {
          "data": {
            "image/png": "[encoded data removed]",
            "text/plain": [
              "<Figure size 640x480 with 1 Axes>"
            ]
          },
          "metadata": {},
          "output_type": "display_data"
        }
      ],
      "source": [
        "plt.scatter(x_train.EstimatedSalary, y_train, color = 'Red')\n",
        "plt.xlabel('Estimated Salary')\n",
        "plt.ylabel('Purchased')\n",
        "plt.title('Estimated salary vs Purchased')\n",
        "plt.show()"
      ]
    },
    {
      "cell_type": "markdown",
      "metadata": {
        "id": "FudAc9-6jSS9"
      },
      "source": [
        "**Visualising the Test set results**"
      ]
    },
    {
      "cell_type": "code",
      "execution_count": 20,
      "metadata": {
        "id": "Q3aQCPffjHqj"
      },
      "outputs": [
        {
          "data": {
            "image/png": "[encoded data removed]",
            "text/plain": [
              "<Figure size 640x480 with 1 Axes>"
            ]
          },
          "metadata": {},
          "output_type": "display_data"
        }
      ],
      "source": [
        "plt.scatter(x_test.Age, y_test, color = 'Red')\n",
        "plt.xlabel('Age')\n",
        "plt.ylabel('Purchased')\n",
        "plt.title('Age vs Purchased')\n",
        "plt.show()"
      ]
    },
    {
      "cell_type": "code",
      "execution_count": 22,
      "metadata": {
        "id": "da0qhcjeh1a0"
      },
      "outputs": [
        {
          "data": {
            "image/png": "[encoded data removed]",
            "text/plain": [
              "<Figure size 640x480 with 1 Axes>"
            ]
          },
          "metadata": {},
          "output_type": "display_data"
        }
      ],
      "source": [
        "plt.scatter(x_test.EstimatedSalary, y_test, color = 'Red')\n",
        "plt.xlabel('Estimated Salary')\n",
        "plt.ylabel('Purchased')\n",
        "plt.title('Estimated salary vs Purchased')\n",
        "plt.show()"
      ]
    }
  ],
  "metadata": {
    "colab": {
      "provenance": []
    },
    "kernelspec": {
      "display_name": "Python 3.11.0 64-bit",
      "language": "python",
      "name": "python3"
    },
    "language_info": {
      "codemirror_mode": {
        "name": "ipython",
        "version": 3
      },
      "file_extension": ".py",
      "mimetype": "text/x-python",
      "name": "python",
      "nbconvert_exporter": "python",
      "pygments_lexer": "ipython3",
      "version": "3.11.0 (main, Oct 24 2022, 18:26:48) [MSC v.1933 64 bit (AMD64)]"
    },
    "vscode": {
      "interpreter": {
        "hash": "c6f3122309dd7e2b7b7540c4d5e229686eb9e8bbcafaa9171ce90190ce45e4c8"
      }
    }
  },
  "nbformat": 4,
  "nbformat_minor": 0
}
