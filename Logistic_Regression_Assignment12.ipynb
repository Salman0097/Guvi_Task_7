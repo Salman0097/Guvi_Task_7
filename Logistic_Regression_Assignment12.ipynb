{
  "cells": [
    {
      "cell_type": "code",
      "execution_count": 1,
      "metadata": {
        "id": "xugUQsM_jkbL"
      },
      "outputs": [],
      "source": [
        "# Social_Network_Ads.csv"
      ]
    },
    {
      "cell_type": "markdown",
      "metadata": {
        "id": "t_YJ-uqLmRuD"
      },
      "source": [
        "This dataset contains information of users in a social network. Those informations are the user id the gender the age and the estimated salary. A car company has just launched their brand new luxury SUV. And we're trying to see which of these users of the social network are going to buy this brand new SUV And the last column here tells If yes or no the user bought this SUV we are going to build a model that is going to predict if a user is going to buy or not the SUV based on two variables which are going to be the age and the estimated salary. So our matrix of feature is only going to be these two columns. We want to find some correlations between the age and the estimated salary of a user and his decision to purchase yes or no the SUV.\n"
      ]
    },
    {
      "cell_type": "markdown",
      "metadata": {
        "id": "sgTgwccsk5Yu"
      },
      "source": [
        "**Step 1 | Data Pre-Processing**"
      ]
    },
    {
      "cell_type": "markdown",
      "metadata": {
        "id": "bKWN0MOblEKa"
      },
      "source": [
        "**Importing the Libraries**"
      ]
    },
    {
      "cell_type": "code",
      "execution_count": 2,
      "metadata": {
        "id": "8cIjONoJj8u0"
      },
      "outputs": [],
      "source": [
        "import pandas as pd\n",
        "import numpy as np\n",
        "import matplotlib.pyplot as plt\n",
        "import statsmodels.api as sm\n",
        "from sklearn.model_selection import train_test_split"
      ]
    },
    {
      "cell_type": "markdown",
      "metadata": {
        "id": "bM9O8a0YlNWk"
      },
      "source": [
        "**Importing the dataset**"
      ]
    },
    {
      "cell_type": "code",
      "execution_count": 3,
      "metadata": {
        "id": "vfPLWJHRlM-4"
      },
      "outputs": [
        {
          "data": {
            "text/html": [
              "<div>\n",
              "<style scoped>\n",
              "    .dataframe tbody tr th:only-of-type {\n",
              "        vertical-align: middle;\n",
              "    }\n",
              "\n",
              "    .dataframe tbody tr th {\n",
              "        vertical-align: top;\n",
              "    }\n",
              "\n",
              "    .dataframe thead th {\n",
              "        text-align: right;\n",
              "    }\n",
              "</style>\n",
              "<table border=\"1\" class=\"dataframe\">\n",
              "  <thead>\n",
              "    <tr style=\"text-align: right;\">\n",
              "      <th></th>\n",
              "      <th>User ID</th>\n",
              "      <th>Gender</th>\n",
              "      <th>Age</th>\n",
              "      <th>EstimatedSalary</th>\n",
              "      <th>Purchased</th>\n",
              "    </tr>\n",
              "  </thead>\n",
              "  <tbody>\n",
              "    <tr>\n",
              "      <th>0</th>\n",
              "      <td>15624510</td>\n",
              "      <td>Male</td>\n",
              "      <td>19</td>\n",
              "      <td>19000</td>\n",
              "      <td>0</td>\n",
              "    </tr>\n",
              "    <tr>\n",
              "      <th>1</th>\n",
              "      <td>15810944</td>\n",
              "      <td>Male</td>\n",
              "      <td>35</td>\n",
              "      <td>20000</td>\n",
              "      <td>0</td>\n",
              "    </tr>\n",
              "    <tr>\n",
              "      <th>2</th>\n",
              "      <td>15668575</td>\n",
              "      <td>Female</td>\n",
              "      <td>26</td>\n",
              "      <td>43000</td>\n",
              "      <td>0</td>\n",
              "    </tr>\n",
              "  </tbody>\n",
              "</table>\n",
              "</div>"
            ],
            "text/plain": [
              "    User ID  Gender  Age  EstimatedSalary  Purchased\n",
              "0  15624510    Male   19            19000          0\n",
              "1  15810944    Male   35            20000          0\n",
              "2  15668575  Female   26            43000          0"
            ]
          },
          "execution_count": 3,
          "metadata": {},
          "output_type": "execute_result"
        }
      ],
      "source": [
        "df = pd.read_csv('Social_Network_Ads.csv')\n",
        "df.head(3)"
      ]
    },
    {
      "cell_type": "code",
      "execution_count": 4,
      "metadata": {},
      "outputs": [
        {
          "data": {
            "text/plain": [
              "(400, 5)"
            ]
          },
          "execution_count": 4,
          "metadata": {},
          "output_type": "execute_result"
        }
      ],
      "source": [
        "df.shape"
      ]
    },
    {
      "cell_type": "code",
      "execution_count": 5,
      "metadata": {},
      "outputs": [
        {
          "data": {
            "text/html": [
              "<div>\n",
              "<style scoped>\n",
              "    .dataframe tbody tr th:only-of-type {\n",
              "        vertical-align: middle;\n",
              "    }\n",
              "\n",
              "    .dataframe tbody tr th {\n",
              "        vertical-align: top;\n",
              "    }\n",
              "\n",
              "    .dataframe thead th {\n",
              "        text-align: right;\n",
              "    }\n",
              "</style>\n",
              "<table border=\"1\" class=\"dataframe\">\n",
              "  <thead>\n",
              "    <tr style=\"text-align: right;\">\n",
              "      <th></th>\n",
              "      <th>User ID</th>\n",
              "      <th>Age</th>\n",
              "      <th>EstimatedSalary</th>\n",
              "      <th>Purchased</th>\n",
              "    </tr>\n",
              "  </thead>\n",
              "  <tbody>\n",
              "    <tr>\n",
              "      <th>count</th>\n",
              "      <td>4.000000e+02</td>\n",
              "      <td>400.000000</td>\n",
              "      <td>400.000000</td>\n",
              "      <td>400.000000</td>\n",
              "    </tr>\n",
              "    <tr>\n",
              "      <th>mean</th>\n",
              "      <td>1.569154e+07</td>\n",
              "      <td>37.655000</td>\n",
              "      <td>69742.500000</td>\n",
              "      <td>0.357500</td>\n",
              "    </tr>\n",
              "    <tr>\n",
              "      <th>std</th>\n",
              "      <td>7.165832e+04</td>\n",
              "      <td>10.482877</td>\n",
              "      <td>34096.960282</td>\n",
              "      <td>0.479864</td>\n",
              "    </tr>\n",
              "    <tr>\n",
              "      <th>min</th>\n",
              "      <td>1.556669e+07</td>\n",
              "      <td>18.000000</td>\n",
              "      <td>15000.000000</td>\n",
              "      <td>0.000000</td>\n",
              "    </tr>\n",
              "    <tr>\n",
              "      <th>25%</th>\n",
              "      <td>1.562676e+07</td>\n",
              "      <td>29.750000</td>\n",
              "      <td>43000.000000</td>\n",
              "      <td>0.000000</td>\n",
              "    </tr>\n",
              "    <tr>\n",
              "      <th>50%</th>\n",
              "      <td>1.569434e+07</td>\n",
              "      <td>37.000000</td>\n",
              "      <td>70000.000000</td>\n",
              "      <td>0.000000</td>\n",
              "    </tr>\n",
              "    <tr>\n",
              "      <th>75%</th>\n",
              "      <td>1.575036e+07</td>\n",
              "      <td>46.000000</td>\n",
              "      <td>88000.000000</td>\n",
              "      <td>1.000000</td>\n",
              "    </tr>\n",
              "    <tr>\n",
              "      <th>max</th>\n",
              "      <td>1.581524e+07</td>\n",
              "      <td>60.000000</td>\n",
              "      <td>150000.000000</td>\n",
              "      <td>1.000000</td>\n",
              "    </tr>\n",
              "  </tbody>\n",
              "</table>\n",
              "</div>"
            ],
            "text/plain": [
              "            User ID         Age  EstimatedSalary   Purchased\n",
              "count  4.000000e+02  400.000000       400.000000  400.000000\n",
              "mean   1.569154e+07   37.655000     69742.500000    0.357500\n",
              "std    7.165832e+04   10.482877     34096.960282    0.479864\n",
              "min    1.556669e+07   18.000000     15000.000000    0.000000\n",
              "25%    1.562676e+07   29.750000     43000.000000    0.000000\n",
              "50%    1.569434e+07   37.000000     70000.000000    0.000000\n",
              "75%    1.575036e+07   46.000000     88000.000000    1.000000\n",
              "max    1.581524e+07   60.000000    150000.000000    1.000000"
            ]
          },
          "execution_count": 5,
          "metadata": {},
          "output_type": "execute_result"
        }
      ],
      "source": [
        "df.describe()"
      ]
    },
    {
      "cell_type": "markdown",
      "metadata": {
        "id": "eHCKYPHylT5K"
      },
      "source": [
        "**Splitting the dataset into the Training set and Test set**"
      ]
    },
    {
      "cell_type": "code",
      "execution_count": 6,
      "metadata": {
        "id": "o9msgi0sj72h"
      },
      "outputs": [
        {
          "data": {
            "text/html": [
              "<div>\n",
              "<style scoped>\n",
              "    .dataframe tbody tr th:only-of-type {\n",
              "        vertical-align: middle;\n",
              "    }\n",
              "\n",
              "    .dataframe tbody tr th {\n",
              "        vertical-align: top;\n",
              "    }\n",
              "\n",
              "    .dataframe thead th {\n",
              "        text-align: right;\n",
              "    }\n",
              "</style>\n",
              "<table border=\"1\" class=\"dataframe\">\n",
              "  <thead>\n",
              "    <tr style=\"text-align: right;\">\n",
              "      <th></th>\n",
              "      <th>Age</th>\n",
              "      <th>EstimatedSalary</th>\n",
              "    </tr>\n",
              "  </thead>\n",
              "  <tbody>\n",
              "    <tr>\n",
              "      <th>0</th>\n",
              "      <td>19</td>\n",
              "      <td>19000</td>\n",
              "    </tr>\n",
              "    <tr>\n",
              "      <th>1</th>\n",
              "      <td>35</td>\n",
              "      <td>20000</td>\n",
              "    </tr>\n",
              "    <tr>\n",
              "      <th>2</th>\n",
              "      <td>26</td>\n",
              "      <td>43000</td>\n",
              "    </tr>\n",
              "  </tbody>\n",
              "</table>\n",
              "</div>"
            ],
            "text/plain": [
              "   Age  EstimatedSalary\n",
              "0   19            19000\n",
              "1   35            20000\n",
              "2   26            43000"
            ]
          },
          "execution_count": 6,
          "metadata": {},
          "output_type": "execute_result"
        }
      ],
      "source": [
        "x = df.iloc[ : , 2:4]\n",
        "x.head(3)"
      ]
    },
    {
      "cell_type": "code",
      "execution_count": 7,
      "metadata": {},
      "outputs": [],
      "source": [
        "y = df['Purchased']"
      ]
    },
    {
      "cell_type": "code",
      "execution_count": 8,
      "metadata": {},
      "outputs": [],
      "source": [
        "x_train, x_test, y_train, y_test = train_test_split(x,y,test_size= 0.20)"
      ]
    },
    {
      "cell_type": "code",
      "execution_count": 9,
      "metadata": {},
      "outputs": [
        {
          "data": {
            "text/plain": [
              "((320, 2), (80, 2), (320,), (80,))"
            ]
          },
          "execution_count": 9,
          "metadata": {},
          "output_type": "execute_result"
        }
      ],
      "source": [
        "x_train.shape, x_test.shape, y_train.shape, y_test.shape"
      ]
    },
    {
      "cell_type": "markdown",
      "metadata": {
        "id": "AsfmGeH6lZ0O"
      },
      "source": [
        "**Feature Scaling**"
      ]
    },
    {
      "cell_type": "code",
      "execution_count": 10,
      "metadata": {
        "id": "Xfifr6tlj77A"
      },
      "outputs": [],
      "source": [
        "from sklearn.preprocessing import MinMaxScaler"
      ]
    },
    {
      "cell_type": "code",
      "execution_count": 11,
      "metadata": {},
      "outputs": [],
      "source": [
        "scaling = MinMaxScaler()"
      ]
    },
    {
      "cell_type": "markdown",
      "metadata": {},
      "source": [
        "### Scaling train data"
      ]
    },
    {
      "cell_type": "code",
      "execution_count": 12,
      "metadata": {},
      "outputs": [
        {
          "data": {
            "text/plain": [
              "array([[0.4047619 , 0.42222222],\n",
              "       [0.47619048, 0.25925926],\n",
              "       [0.73809524, 0.0962963 ],\n",
              "       [0.66666667, 0.54074074],\n",
              "       [0.19047619, 0.27407407],\n",
              "       [0.69047619, 0.14074074],\n",
              "       [0.23809524, 0.21481481],\n",
              "       [0.07142857, 0.54074074],\n",
              "       [0.4047619 , 0.05925926],\n",
              "       [0.66666667, 0.32592593],\n",
              "       [0.52380952, 0.94074074],\n",
              "       [0.9047619 , 0.87407407],\n",
              "       [1.        , 0.68888889],\n",
              "       [0.64285714, 0.08148148],\n",
              "       [0.14285714, 0.51111111],\n",
              "       [0.71428571, 0.43703704],\n",
              "       [0.42857143, 0.62222222],\n",
              "       [1.        , 0.14074074],\n",
              "       [0.04761905, 0.52592593],\n",
              "       [0.71428571, 0.13333333],\n",
              "       [0.52380952, 0.32592593],\n",
              "       [0.14285714, 0.12592593],\n",
              "       [0.35714286, 0.99259259],\n",
              "       [0.35714286, 0.20740741],\n",
              "       [0.71428571, 0.13333333],\n",
              "       [0.02380952, 0.07407407],\n",
              "       [0.45238095, 0.44444444],\n",
              "       [0.19047619, 0.01481481],\n",
              "       [0.54761905, 0.33333333],\n",
              "       [0.71428571, 0.1037037 ],\n",
              "       [0.4047619 , 0.54074074],\n",
              "       [0.28571429, 0.54814815],\n",
              "       [0.85714286, 0.40740741],\n",
              "       [0.54761905, 0.35555556],\n",
              "       [0.33333333, 0.02222222],\n",
              "       [0.4047619 , 0.97777778],\n",
              "       [0.66666667, 0.43703704],\n",
              "       [0.19047619, 0.42222222],\n",
              "       [0.45238095, 0.13333333],\n",
              "       [0.23809524, 0.51851852],\n",
              "       [0.42857143, 0.33333333],\n",
              "       [0.64285714, 0.05185185],\n",
              "       [1.        , 0.2       ],\n",
              "       [0.11904762, 0.03703704],\n",
              "       [0.19047619, 0.52592593],\n",
              "       [0.5952381 , 0.84444444],\n",
              "       [0.4047619 , 0.33333333],\n",
              "       [0.28571429, 0.48148148],\n",
              "       [0.97619048, 0.94814815],\n",
              "       [0.69047619, 0.20740741],\n",
              "       [0.33333333, 0.88888889],\n",
              "       [0.76190476, 0.54074074],\n",
              "       [0.14285714, 0.2962963 ],\n",
              "       [0.85714286, 0.68888889],\n",
              "       [0.11904762, 0.0962963 ],\n",
              "       [0.5       , 0.42962963],\n",
              "       [0.02380952, 0.40740741],\n",
              "       [0.42857143, 0.44444444],\n",
              "       [0.80952381, 0.91111111],\n",
              "       [0.4047619 , 0.21481481],\n",
              "       [0.26190476, 0.5037037 ],\n",
              "       [0.4047619 , 0.23703704],\n",
              "       [0.54761905, 0.48148148],\n",
              "       [0.19047619, 0.        ],\n",
              "       [1.        , 0.5037037 ],\n",
              "       [0.4047619 , 0.47407407],\n",
              "       [0.73809524, 0.17777778],\n",
              "       [0.64285714, 0.05185185],\n",
              "       [0.26190476, 0.48148148],\n",
              "       [0.4047619 , 0.05185185],\n",
              "       [0.54761905, 0.42222222],\n",
              "       [0.54761905, 0.27407407],\n",
              "       [0.80952381, 0.55555556],\n",
              "       [0.4047619 , 0.68888889],\n",
              "       [0.57142857, 0.37037037],\n",
              "       [0.61904762, 0.91851852],\n",
              "       [0.30952381, 0.37777778],\n",
              "       [0.57142857, 0.36296296],\n",
              "       [0.45238095, 0.41481481],\n",
              "       [0.66666667, 0.05925926],\n",
              "       [0.38095238, 0.20740741],\n",
              "       [0.07142857, 0.42222222],\n",
              "       [0.5952381 , 0.71851852],\n",
              "       [0.95238095, 0.23703704],\n",
              "       [0.26190476, 0.44444444],\n",
              "       [0.54761905, 0.53333333],\n",
              "       [0.5       , 0.44444444],\n",
              "       [0.19047619, 0.        ],\n",
              "       [0.76190476, 0.15555556],\n",
              "       [0.35714286, 0.11851852],\n",
              "       [0.28571429, 0.25185185],\n",
              "       [0.35714286, 0.33333333],\n",
              "       [0.28571429, 0.53333333],\n",
              "       [0.33333333, 0.02222222],\n",
              "       [0.21428571, 0.6       ],\n",
              "       [0.38095238, 0.07407407],\n",
              "       [0.45238095, 0.47407407],\n",
              "       [0.33333333, 0.75555556],\n",
              "       [0.97619048, 0.85185185],\n",
              "       [0.11904762, 0.37777778],\n",
              "       [0.73809524, 0.15555556],\n",
              "       [0.83333333, 0.14074074],\n",
              "       [0.45238095, 0.46666667],\n",
              "       [0.4047619 , 0.42962963],\n",
              "       [0.66666667, 0.05185185],\n",
              "       [0.23809524, 0.8       ],\n",
              "       [0.5       , 0.79259259],\n",
              "       [0.71428571, 0.88148148],\n",
              "       [0.21428571, 0.11851852],\n",
              "       [0.4047619 , 0.32592593],\n",
              "       [0.11904762, 0.24444444],\n",
              "       [0.47619048, 0.41481481],\n",
              "       [0.45238095, 0.95555556],\n",
              "       [0.21428571, 0.31851852],\n",
              "       [0.30952381, 0.14074074],\n",
              "       [0.0952381 , 0.48888889],\n",
              "       [0.80952381, 1.        ],\n",
              "       [0.52380952, 0.44444444],\n",
              "       [0.21428571, 0.55555556],\n",
              "       [0.57142857, 0.65925926],\n",
              "       [0.54761905, 0.27407407],\n",
              "       [0.33333333, 0.52592593],\n",
              "       [0.83333333, 0.4962963 ],\n",
              "       [0.28571429, 0.68148148],\n",
              "       [0.5       , 0.45925926],\n",
              "       [0.73809524, 0.54074074],\n",
              "       [0.5       , 0.34074074],\n",
              "       [0.19047619, 0.14814815],\n",
              "       [0.28571429, 0.47407407],\n",
              "       [0.4047619 , 0.45925926],\n",
              "       [0.28571429, 0.        ],\n",
              "       [0.83333333, 0.65925926],\n",
              "       [0.4047619 , 0.17037037],\n",
              "       [0.66666667, 0.12592593],\n",
              "       [0.85714286, 0.08148148],\n",
              "       [0.19047619, 0.51111111],\n",
              "       [0.85714286, 0.65925926],\n",
              "       [0.26190476, 0.5037037 ],\n",
              "       [0.33333333, 0.77777778],\n",
              "       [0.4047619 , 0.17777778],\n",
              "       [0.71428571, 0.91111111],\n",
              "       [0.30952381, 0.45185185],\n",
              "       [0.23809524, 0.2962963 ],\n",
              "       [0.64285714, 0.12592593],\n",
              "       [0.52380952, 0.41481481],\n",
              "       [0.04761905, 0.4962963 ],\n",
              "       [0.4047619 , 0.34074074],\n",
              "       [0.66666667, 0.19259259],\n",
              "       [0.4047619 , 0.31111111],\n",
              "       [0.07142857, 0.00740741],\n",
              "       [0.95238095, 0.59259259],\n",
              "       [0.57142857, 0.99259259],\n",
              "       [0.64285714, 0.47407407],\n",
              "       [0.42857143, 0.95555556],\n",
              "       [0.47619048, 0.72592593],\n",
              "       [0.9047619 , 0.65925926],\n",
              "       [0.23809524, 0.53333333],\n",
              "       [0.5       , 0.41481481],\n",
              "       [0.45238095, 0.42222222],\n",
              "       [0.97619048, 0.45185185],\n",
              "       [0.0952381 , 0.35555556],\n",
              "       [0.21428571, 0.31111111],\n",
              "       [0.73809524, 0.43703704],\n",
              "       [0.45238095, 0.97037037],\n",
              "       [0.5       , 0.67407407],\n",
              "       [0.21428571, 0.01481481],\n",
              "       [0.61904762, 0.17777778],\n",
              "       [0.14285714, 0.08888889],\n",
              "       [0.16666667, 0.55555556],\n",
              "       [0.23809524, 0.16296296],\n",
              "       [0.16666667, 0.05185185],\n",
              "       [0.35714286, 0.26666667],\n",
              "       [0.45238095, 0.34814815],\n",
              "       [0.21428571, 0.54814815],\n",
              "       [0.19047619, 0.12592593],\n",
              "       [0.73809524, 0.0962963 ],\n",
              "       [0.23809524, 0.32592593],\n",
              "       [0.14285714, 0.2962963 ],\n",
              "       [0.69047619, 0.11111111],\n",
              "       [0.66666667, 0.75555556],\n",
              "       [0.57142857, 0.68888889],\n",
              "       [0.4047619 , 0.44444444],\n",
              "       [0.52380952, 0.23703704],\n",
              "       [0.04761905, 0.43703704],\n",
              "       [0.83333333, 0.42222222],\n",
              "       [0.80952381, 0.17037037],\n",
              "       [0.14285714, 0.02962963],\n",
              "       [0.4047619 , 0.07407407],\n",
              "       [0.26190476, 0.20740741],\n",
              "       [0.69047619, 0.95555556],\n",
              "       [0.42857143, 0.27407407],\n",
              "       [0.47619048, 0.34074074],\n",
              "       [0.4047619 , 0.31851852],\n",
              "       [0.73809524, 0.54814815],\n",
              "       [0.47619048, 0.2962963 ],\n",
              "       [0.9047619 , 0.33333333],\n",
              "       [0.54761905, 0.42222222],\n",
              "       [0.42857143, 0.76296296],\n",
              "       [0.52380952, 0.42222222],\n",
              "       [0.97619048, 0.54074074],\n",
              "       [0.52380952, 0.33333333],\n",
              "       [0.33333333, 1.        ],\n",
              "       [0.0952381 , 0.2962963 ],\n",
              "       [0.19047619, 0.20740741],\n",
              "       [0.26190476, 0.34074074],\n",
              "       [0.4047619 , 0.60740741],\n",
              "       [0.26190476, 0.0962963 ],\n",
              "       [0.52380952, 0.44444444],\n",
              "       [0.4047619 , 0.25925926],\n",
              "       [0.23809524, 0.12592593],\n",
              "       [0.4047619 , 0.2962963 ],\n",
              "       [0.57142857, 0.48148148],\n",
              "       [0.71428571, 0.85925926],\n",
              "       [0.52380952, 0.31111111],\n",
              "       [0.26190476, 0.23703704],\n",
              "       [0.23809524, 0.54814815],\n",
              "       [0.23809524, 0.51111111],\n",
              "       [0.92857143, 0.33333333],\n",
              "       [0.42857143, 0.13333333],\n",
              "       [0.69047619, 0.07407407],\n",
              "       [0.71428571, 0.11111111],\n",
              "       [0.        , 0.27407407],\n",
              "       [1.        , 0.22962963],\n",
              "       [0.57142857, 0.28888889],\n",
              "       [0.54761905, 0.11111111],\n",
              "       [0.        , 0.39259259],\n",
              "       [0.38095238, 0.74074074],\n",
              "       [0.69047619, 0.25925926],\n",
              "       [0.54761905, 0.26666667],\n",
              "       [0.14285714, 0.54814815],\n",
              "       [0.04761905, 0.05925926],\n",
              "       [0.02380952, 0.08148148],\n",
              "       [0.73809524, 0.37037037],\n",
              "       [0.71428571, 0.14814815],\n",
              "       [1.        , 0.2       ],\n",
              "       [0.78571429, 0.05925926],\n",
              "       [0.02380952, 0.02962963],\n",
              "       [0.52380952, 0.37037037],\n",
              "       [0.78571429, 0.88148148],\n",
              "       [0.11904762, 0.4962963 ],\n",
              "       [0.47619048, 0.48148148],\n",
              "       [0.54761905, 0.22222222],\n",
              "       [0.95238095, 0.95555556],\n",
              "       [0.73809524, 0.93333333],\n",
              "       [0.97619048, 0.2       ],\n",
              "       [0.45238095, 0.45925926],\n",
              "       [0.28571429, 0.74814815],\n",
              "       [0.45238095, 0.31111111],\n",
              "       [0.21428571, 0.31851852],\n",
              "       [0.66666667, 0.4962963 ],\n",
              "       [0.5       , 0.88148148],\n",
              "       [0.92857143, 0.08148148],\n",
              "       [0.02380952, 0.45185185],\n",
              "       [0.30952381, 0.43703704],\n",
              "       [0.69047619, 0.05925926],\n",
              "       [0.80952381, 0.04444444],\n",
              "       [0.52380952, 0.31111111],\n",
              "       [0.14285714, 0.31851852],\n",
              "       [0.26190476, 0.20740741],\n",
              "       [0.42857143, 0.82222222],\n",
              "       [0.5       , 0.2       ],\n",
              "       [0.04761905, 0.4962963 ],\n",
              "       [0.54761905, 0.32592593],\n",
              "       [0.57142857, 0.44444444],\n",
              "       [0.        , 0.21481481],\n",
              "       [0.35714286, 0.19259259],\n",
              "       [0.45238095, 0.28148148],\n",
              "       [0.        , 0.52592593],\n",
              "       [0.45238095, 0.57777778],\n",
              "       [0.38095238, 0.42222222],\n",
              "       [0.5952381 , 0.87407407],\n",
              "       [0.69047619, 0.03703704],\n",
              "       [0.38095238, 0.71851852],\n",
              "       [0.19047619, 0.11111111],\n",
              "       [0.30952381, 0.        ],\n",
              "       [0.57142857, 0.28888889],\n",
              "       [0.23809524, 0.32592593],\n",
              "       [0.4047619 , 0.03703704],\n",
              "       [0.28571429, 0.88888889],\n",
              "       [0.78571429, 0.97037037],\n",
              "       [0.76190476, 0.03703704],\n",
              "       [0.57142857, 0.40740741],\n",
              "       [0.95238095, 0.17037037],\n",
              "       [0.30952381, 0.31851852],\n",
              "       [0.42857143, 0.28888889],\n",
              "       [0.71428571, 0.77037037],\n",
              "       [0.07142857, 0.39259259],\n",
              "       [0.5       , 0.41481481],\n",
              "       [0.42857143, 0.25925926],\n",
              "       [0.35714286, 0.72592593],\n",
              "       [0.21428571, 0.28888889],\n",
              "       [0.80952381, 0.73333333],\n",
              "       [0.5       , 0.88148148],\n",
              "       [0.54761905, 0.47407407],\n",
              "       [0.19047619, 0.48148148],\n",
              "       [0.5       , 0.47407407],\n",
              "       [0.66666667, 0.0962963 ],\n",
              "       [0.        , 0.4962963 ],\n",
              "       [0.47619048, 0.32592593],\n",
              "       [0.0952381 , 0.08888889],\n",
              "       [0.66666667, 0.6       ],\n",
              "       [0.4047619 , 0.08888889],\n",
              "       [0.52380952, 0.34074074],\n",
              "       [0.02380952, 0.51851852],\n",
              "       [0.30952381, 0.54814815],\n",
              "       [0.30952381, 0.39259259],\n",
              "       [0.66666667, 0.47407407],\n",
              "       [0.30952381, 0.02222222],\n",
              "       [1.        , 0.64444444],\n",
              "       [0.33333333, 0.62962963],\n",
              "       [0.35714286, 0.0962963 ],\n",
              "       [0.52380952, 0.68148148],\n",
              "       [0.11904762, 0.35555556],\n",
              "       [0.02380952, 0.04444444],\n",
              "       [0.19047619, 0.48148148],\n",
              "       [0.21428571, 0.9037037 ],\n",
              "       [0.45238095, 0.40740741],\n",
              "       [0.95238095, 0.63703704],\n",
              "       [0.16666667, 0.47407407],\n",
              "       [0.95238095, 0.05925926]])"
            ]
          },
          "execution_count": 12,
          "metadata": {},
          "output_type": "execute_result"
        }
      ],
      "source": [
        "scaling.fit_transform(x_train)"
      ]
    },
    {
      "cell_type": "markdown",
      "metadata": {},
      "source": [
        "### Scaling test data"
      ]
    },
    {
      "cell_type": "code",
      "execution_count": 13,
      "metadata": {},
      "outputs": [
        {
          "data": {
            "text/plain": [
              "array([[0.94871795, 0.8030303 ],\n",
              "       [0.74358974, 0.53030303],\n",
              "       [0.46153846, 0.37121212],\n",
              "       [0.94871795, 0.12878788],\n",
              "       [0.46153846, 0.25757576],\n",
              "       [0.71794872, 0.9469697 ],\n",
              "       [0.69230769, 0.25      ],\n",
              "       [0.15384615, 0.49242424],\n",
              "       [0.56410256, 0.48484848],\n",
              "       [0.8974359 , 0.17424242],\n",
              "       [0.43589744, 0.91666667],\n",
              "       [0.20512821, 0.47727273],\n",
              "       [0.28205128, 0.41666667],\n",
              "       [0.94871795, 0.43939394],\n",
              "       [0.17948718, 0.54545455],\n",
              "       [0.28205128, 0.77272727],\n",
              "       [0.41025641, 0.82575758],\n",
              "       [0.17948718, 0.51515152],\n",
              "       [0.69230769, 0.26515152],\n",
              "       [1.        , 0.50757576],\n",
              "       [0.71794872, 0.18939394],\n",
              "       [0.43589744, 0.43939394],\n",
              "       [0.51282051, 0.31060606],\n",
              "       [0.64102564, 0.21969697],\n",
              "       [0.30769231, 0.76515152],\n",
              "       [0.38461538, 0.37121212],\n",
              "       [0.8974359 , 0.82575758],\n",
              "       [0.46153846, 0.72727273],\n",
              "       [0.53846154, 0.42424242],\n",
              "       [0.69230769, 0.68939394],\n",
              "       [0.15384615, 0.        ],\n",
              "       [0.48717949, 0.32575758],\n",
              "       [0.38461538, 0.56818182],\n",
              "       [0.38461538, 0.42424242],\n",
              "       [0.48717949, 0.60606061],\n",
              "       [0.69230769, 0.73484848],\n",
              "       [0.41025641, 0.35606061],\n",
              "       [0.12820513, 0.48484848],\n",
              "       [0.1025641 , 0.0530303 ],\n",
              "       [0.56410256, 0.56060606],\n",
              "       [0.25641026, 0.34848485],\n",
              "       [0.38461538, 0.25757576],\n",
              "       [0.69230769, 0.23484848],\n",
              "       [0.71794872, 0.60606061],\n",
              "       [0.43589744, 0.27272727],\n",
              "       [0.46153846, 0.34090909],\n",
              "       [0.43589744, 0.29545455],\n",
              "       [0.69230769, 0.67424242],\n",
              "       [0.12820513, 0.12878788],\n",
              "       [0.64102564, 0.87121212],\n",
              "       [1.        , 0.09848485],\n",
              "       [0.56410256, 0.47727273],\n",
              "       [0.15384615, 0.77272727],\n",
              "       [0.51282051, 0.46969697],\n",
              "       [0.33333333, 0.40151515],\n",
              "       [0.46153846, 0.41666667],\n",
              "       [0.71794872, 0.56060606],\n",
              "       [0.46153846, 0.26515152],\n",
              "       [0.53846154, 0.42424242],\n",
              "       [0.05128205, 0.01515152],\n",
              "       [0.38461538, 0.28030303],\n",
              "       [0.38461538, 0.41666667],\n",
              "       [0.38461538, 0.4469697 ],\n",
              "       [0.84615385, 0.96212121],\n",
              "       [0.17948718, 0.03030303],\n",
              "       [0.12820513, 0.53787879],\n",
              "       [0.76923077, 0.21212121],\n",
              "       [0.43589744, 0.48484848],\n",
              "       [0.48717949, 0.1969697 ],\n",
              "       [0.        , 0.25      ],\n",
              "       [0.56410256, 0.37121212],\n",
              "       [0.56410256, 0.43181818],\n",
              "       [0.56410256, 0.28030303],\n",
              "       [0.35897436, 0.20454545],\n",
              "       [0.23076923, 1.        ],\n",
              "       [0.        , 0.15151515],\n",
              "       [0.43589744, 0.48484848],\n",
              "       [0.25641026, 0.00757576],\n",
              "       [0.53846154, 0.41666667],\n",
              "       [0.8974359 , 0.86363636]])"
            ]
          },
          "execution_count": 13,
          "metadata": {},
          "output_type": "execute_result"
        }
      ],
      "source": [
        "scaling.fit_transform(x_test)"
      ]
    },
    {
      "cell_type": "markdown",
      "metadata": {
        "id": "UkiSpylklf7z"
      },
      "source": [
        "**Step 2 | Logistic Regression Model**"
      ]
    },
    {
      "cell_type": "markdown",
      "metadata": {
        "id": "rhZgd1t_mfYg"
      },
      "source": [
        "The library for this job which is going to be the linear model library and it is called linear because the logistic regression is a linear classifier which means that here since we're in two dimensions, our two categories of users are going to be separated by a straight line. Then import the logistic regression class. Next we will create a new object from this class which is going to be our classifier that we are going to fit on our training set."
      ]
    },
    {
      "cell_type": "markdown",
      "metadata": {
        "id": "oCUEcLBflmPn"
      },
      "source": [
        "**Fitting Logistic Regression to the Training set**"
      ]
    },
    {
      "cell_type": "code",
      "execution_count": 14,
      "metadata": {
        "id": "l8YSpSphj8FN"
      },
      "outputs": [],
      "source": [
        "from sklearn.linear_model import LogisticRegression"
      ]
    },
    {
      "cell_type": "code",
      "execution_count": 15,
      "metadata": {},
      "outputs": [],
      "source": [
        "model = LogisticRegression()"
      ]
    },
    {
      "cell_type": "code",
      "execution_count": 16,
      "metadata": {},
      "outputs": [
        {
          "data": {
            "text/html": [
              "<style>#sk-container-id-1 {color: black;background-color: white;}#sk-container-id-1 pre{padding: 0;}#sk-container-id-1 div.sk-toggleable {background-color: white;}#sk-container-id-1 label.sk-toggleable__label {cursor: pointer;display: block;width: 100%;margin-bottom: 0;padding: 0.3em;box-sizing: border-box;text-align: center;}#sk-container-id-1 label.sk-toggleable__label-arrow:before {content: \"▸\";float: left;margin-right: 0.25em;color: #696969;}#sk-container-id-1 label.sk-toggleable__label-arrow:hover:before {color: black;}#sk-container-id-1 div.sk-estimator:hover label.sk-toggleable__label-arrow:before {color: black;}#sk-container-id-1 div.sk-toggleable__content {max-height: 0;max-width: 0;overflow: hidden;text-align: left;background-color: #f0f8ff;}#sk-container-id-1 div.sk-toggleable__content pre {margin: 0.2em;color: black;border-radius: 0.25em;background-color: #f0f8ff;}#sk-container-id-1 input.sk-toggleable__control:checked~div.sk-toggleable__content {max-height: 200px;max-width: 100%;overflow: auto;}#sk-container-id-1 input.sk-toggleable__control:checked~label.sk-toggleable__label-arrow:before {content: \"▾\";}#sk-container-id-1 div.sk-estimator input.sk-toggleable__control:checked~label.sk-toggleable__label {background-color: #d4ebff;}#sk-container-id-1 div.sk-label input.sk-toggleable__control:checked~label.sk-toggleable__label {background-color: #d4ebff;}#sk-container-id-1 input.sk-hidden--visually {border: 0;clip: rect(1px 1px 1px 1px);clip: rect(1px, 1px, 1px, 1px);height: 1px;margin: -1px;overflow: hidden;padding: 0;position: absolute;width: 1px;}#sk-container-id-1 div.sk-estimator {font-family: monospace;background-color: #f0f8ff;border: 1px dotted black;border-radius: 0.25em;box-sizing: border-box;margin-bottom: 0.5em;}#sk-container-id-1 div.sk-estimator:hover {background-color: #d4ebff;}#sk-container-id-1 div.sk-parallel-item::after {content: \"\";width: 100%;border-bottom: 1px solid gray;flex-grow: 1;}#sk-container-id-1 div.sk-label:hover label.sk-toggleable__label {background-color: #d4ebff;}#sk-container-id-1 div.sk-serial::before {content: \"\";position: absolute;border-left: 1px solid gray;box-sizing: border-box;top: 0;bottom: 0;left: 50%;z-index: 0;}#sk-container-id-1 div.sk-serial {display: flex;flex-direction: column;align-items: center;background-color: white;padding-right: 0.2em;padding-left: 0.2em;position: relative;}#sk-container-id-1 div.sk-item {position: relative;z-index: 1;}#sk-container-id-1 div.sk-parallel {display: flex;align-items: stretch;justify-content: center;background-color: white;position: relative;}#sk-container-id-1 div.sk-item::before, #sk-container-id-1 div.sk-parallel-item::before {content: \"\";position: absolute;border-left: 1px solid gray;box-sizing: border-box;top: 0;bottom: 0;left: 50%;z-index: -1;}#sk-container-id-1 div.sk-parallel-item {display: flex;flex-direction: column;z-index: 1;position: relative;background-color: white;}#sk-container-id-1 div.sk-parallel-item:first-child::after {align-self: flex-end;width: 50%;}#sk-container-id-1 div.sk-parallel-item:last-child::after {align-self: flex-start;width: 50%;}#sk-container-id-1 div.sk-parallel-item:only-child::after {width: 0;}#sk-container-id-1 div.sk-dashed-wrapped {border: 1px dashed gray;margin: 0 0.4em 0.5em 0.4em;box-sizing: border-box;padding-bottom: 0.4em;background-color: white;}#sk-container-id-1 div.sk-label label {font-family: monospace;font-weight: bold;display: inline-block;line-height: 1.2em;}#sk-container-id-1 div.sk-label-container {text-align: center;}#sk-container-id-1 div.sk-container {/* jupyter's `normalize.less` sets `[hidden] { display: none; }` but bootstrap.min.css set `[hidden] { display: none !important; }` so we also need the `!important` here to be able to override the default hidden behavior on the sphinx rendered scikit-learn.org. See: https://github.com/scikit-learn/scikit-learn/issues/21755 */display: inline-block !important;position: relative;}#sk-container-id-1 div.sk-text-repr-fallback {display: none;}</style><div id=\"sk-container-id-1\" class=\"sk-top-container\"><div class=\"sk-text-repr-fallback\"><pre>LogisticRegression()</pre><b>In a Jupyter environment, please rerun this cell to show the HTML representation or trust the notebook. <br />On GitHub, the HTML representation is unable to render, please try loading this page with nbviewer.org.</b></div><div class=\"sk-container\" hidden><div class=\"sk-item\"><div class=\"sk-estimator sk-toggleable\"><input class=\"sk-toggleable__control sk-hidden--visually\" id=\"sk-estimator-id-1\" type=\"checkbox\" checked><label for=\"sk-estimator-id-1\" class=\"sk-toggleable__label sk-toggleable__label-arrow\">LogisticRegression</label><div class=\"sk-toggleable__content\"><pre>LogisticRegression()</pre></div></div></div></div></div>"
            ],
            "text/plain": [
              "LogisticRegression()"
            ]
          },
          "execution_count": 16,
          "metadata": {},
          "output_type": "execute_result"
        }
      ],
      "source": [
        "model.fit(x_train, y_train)"
      ]
    },
    {
      "cell_type": "markdown",
      "metadata": {
        "id": "0DpkLwdRlvXX"
      },
      "source": [
        "**Step 3 | Predection**"
      ]
    },
    {
      "cell_type": "code",
      "execution_count": 17,
      "metadata": {
        "id": "5X1PxviQlp0C"
      },
      "outputs": [],
      "source": [
        "prediction = model.predict(x_test)"
      ]
    },
    {
      "cell_type": "code",
      "execution_count": 18,
      "metadata": {},
      "outputs": [],
      "source": [
        "from sklearn.metrics import accuracy_score"
      ]
    },
    {
      "cell_type": "code",
      "execution_count": 19,
      "metadata": {},
      "outputs": [
        {
          "data": {
            "text/plain": [
              "0.6625"
            ]
          },
          "execution_count": 19,
          "metadata": {},
          "output_type": "execute_result"
        }
      ],
      "source": [
        "accuracy_score(prediction, y_test)"
      ]
    },
    {
      "cell_type": "markdown",
      "metadata": {
        "id": "vdX1IU-Fl7Ak"
      },
      "source": [
        "**Step 4 | Evaluating The Predection**"
      ]
    },
    {
      "cell_type": "markdown",
      "metadata": {
        "id": "zPdZLTTQmqa9"
      },
      "source": [
        "We predicted the test results and now we will evaluate if our logistic regression model learned and understood correctly. So this confusion matrix is going to contain the correct predictions that our model made on the set as well as the incorrect predictions."
      ]
    },
    {
      "cell_type": "markdown",
      "metadata": {
        "id": "bxjKgSYvmBDn"
      },
      "source": [
        "**Making the Confusion Matrix**"
      ]
    },
    {
      "cell_type": "code",
      "execution_count": 20,
      "metadata": {
        "id": "2_afjfcjlp88"
      },
      "outputs": [],
      "source": [
        "from sklearn.metrics import confusion_matrix"
      ]
    },
    {
      "cell_type": "code",
      "execution_count": 21,
      "metadata": {},
      "outputs": [
        {
          "data": {
            "text/plain": [
              "array([[53, 27],\n",
              "       [ 0,  0]], dtype=int64)"
            ]
          },
          "execution_count": 21,
          "metadata": {},
          "output_type": "execute_result"
        }
      ],
      "source": [
        "con_mat = confusion_matrix(prediction, y_test)\n",
        "con_mat"
      ]
    },
    {
      "cell_type": "markdown",
      "metadata": {
        "id": "DARs2T8GmG3v"
      },
      "source": [
        "**Visualization**"
      ]
    },
    {
      "cell_type": "code",
      "execution_count": 31,
      "metadata": {
        "id": "v_qMnhVilqBW"
      },
      "outputs": [
        {
          "data": {
            "image/png": "[encoded data removed]",
            "text/plain": [
              "<Figure size 640x480 with 1 Axes>"
            ]
          },
          "metadata": {},
          "output_type": "display_data"
        }
      ],
      "source": [
        "plt.scatter(df['Age'], df['Purchased'])\n",
        "plt.scatter(x_test.Age, y_test, color = 'Red')\n",
        "plt.xlabel('Age')\n",
        "plt.ylabel('Purchased')\n",
        "plt.title('Age vs Purchased')\n",
        "plt.show()\n"
      ]
    },
    {
      "cell_type": "code",
      "execution_count": 37,
      "metadata": {
        "id": "QBiu7oxRlqGj"
      },
      "outputs": [
        {
          "data": {
            "image/png": "[encoded data removed]",
            "text/plain": [
              "<Figure size 640x480 with 1 Axes>"
            ]
          },
          "metadata": {},
          "output_type": "display_data"
        }
      ],
      "source": [
        "plt.scatter(df['EstimatedSalary'], df['Purchased'])\n",
        "# plt.plot(x_test.EstimatedSalary, y_test, color = 'Red')\n",
        "plt.xlabel('Age')\n",
        "plt.ylabel('Purchased')\n",
        "plt.title('Age vs Purchased')\n",
        "plt.show()"
      ]
    },
    {
      "cell_type": "code",
      "execution_count": null,
      "metadata": {
        "id": "qLGVB79kj8KK"
      },
      "outputs": [],
      "source": []
    }
  ],
  "metadata": {
    "colab": {
      "provenance": []
    },
    "kernelspec": {
      "display_name": "Python 3.11.0 64-bit",
      "language": "python",
      "name": "python3"
    },
    "language_info": {
      "codemirror_mode": {
        "name": "ipython",
        "version": 3
      },
      "file_extension": ".py",
      "mimetype": "text/x-python",
      "name": "python",
      "nbconvert_exporter": "python",
      "pygments_lexer": "ipython3",
      "version": "3.11.0"
    },
    "vscode": {
      "interpreter": {
        "hash": "c6f3122309dd7e2b7b7540c4d5e229686eb9e8bbcafaa9171ce90190ce45e4c8"
      }
    }
  },
  "nbformat": 4,
  "nbformat_minor": 0
}
